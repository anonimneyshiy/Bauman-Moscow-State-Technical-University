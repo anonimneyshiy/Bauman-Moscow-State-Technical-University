{
 "cells": [
  {
   "cell_type": "code",
   "execution_count": 2,
   "metadata": {},
   "outputs": [],
   "source": [
    "import numpy as np\n",
    "from matplotlib import pyplot as plt"
   ]
  },
  {
   "cell_type": "markdown",
   "metadata": {},
   "source": [
    "Для метода интегрирования 3/8 проверить правило Рунге путём сравнения численного решённого интеграла:"
   ]
  },
  {
   "cell_type": "markdown",
   "metadata": {},
   "source": [
    "$ I = \\int\\limits_0^{2\\pi}\\pi x^4 - sin(x)dx$"
   ]
  },
  {
   "cell_type": "markdown",
   "metadata": {},
   "source": [
    "Погрешности считать от аналитически рассчитанного интеграла."
   ]
  },
  {
   "cell_type": "markdown",
   "metadata": {},
   "source": [
    "Аналитическое решение дает результат:"
   ]
  },
  {
   "cell_type": "code",
   "execution_count": 3,
   "metadata": {},
   "outputs": [
    {
     "data": {
      "text/plain": [
       "6152.890838881947"
      ]
     },
     "execution_count": 3,
     "metadata": {},
     "output_type": "execute_result"
    }
   ],
   "source": [
    "I_analitical = 32 * np.pi**6 / 5\n",
    "I_analitical"
   ]
  },
  {
   "cell_type": "code",
   "execution_count": 12,
   "metadata": {},
   "outputs": [],
   "source": [
    "func = lambda x: np.pi * x**4 - np.sin(x)"
   ]
  },
  {
   "cell_type": "code",
   "execution_count": 13,
   "metadata": {},
   "outputs": [],
   "source": [
    "def method_newton(low, high, function, h):\n",
    "    integral = 0\n",
    "    while round(low, 5) < high:\n",
    "        integral += (h / 8) * (function(low) + 3 * function(low + h / 3) + 3 * function(low + h / 1.5) + function(low + h))\n",
    "        low += h\n",
    "    return integral"
   ]
  },
  {
   "cell_type": "markdown",
   "metadata": {},
   "source": [
    "Правило Рунге оценки погрешности:"
   ]
  },
  {
   "cell_type": "code",
   "execution_count": 16,
   "metadata": {},
   "outputs": [],
   "source": [
    "def Runge(I_numeric, I_analitical):\n",
    "    return abs(I_numeric - I_analitical) / 3"
   ]
  },
  {
   "cell_type": "markdown",
   "metadata": {},
   "source": [
    "Начнем с шага 3 и будем увеличивать количество шагов:"
   ]
  },
  {
   "cell_type": "code",
   "execution_count": 21,
   "metadata": {},
   "outputs": [],
   "source": [
    "step = [1, 0.5, 0.01, 0.005, 0.001, 0.0005, 0.0001, 0.00005, 0.00001]\n",
    "R = []\n",
    "for i in step:\n",
    "    R.append(Runge(method_newton(0, 2*np.pi, func, i), I_analitical))"
   ]
  },
  {
   "cell_type": "code",
   "execution_count": 22,
   "metadata": {
    "scrolled": true
   },
   "outputs": [
    {
     "data": {
      "text/plain": [
       "[1469.0313396129131,\n",
       " 379.13716083602475,\n",
       " 11.146438872082095,\n",
       " 2.9634799651573,\n",
       " 1.3300089629525853,\n",
       " 0.5136631552801797,\n",
       " 0.02398033928481406,\n",
       " 0.023980329307354015,\n",
       " 0.007659143109776778]"
      ]
     },
     "execution_count": 22,
     "metadata": {},
     "output_type": "execute_result"
    }
   ],
   "source": [
    "R"
   ]
  }
 ],
 "metadata": {
  "kernelspec": {
   "display_name": "Python 3",
   "language": "python",
   "name": "python3"
  },
  "language_info": {
   "codemirror_mode": {
    "name": "ipython",
    "version": 3
   },
   "file_extension": ".py",
   "mimetype": "text/x-python",
   "name": "python",
   "nbconvert_exporter": "python",
   "pygments_lexer": "ipython3",
   "version": "3.7.6"
  }
 },
 "nbformat": 4,
 "nbformat_minor": 4
}
