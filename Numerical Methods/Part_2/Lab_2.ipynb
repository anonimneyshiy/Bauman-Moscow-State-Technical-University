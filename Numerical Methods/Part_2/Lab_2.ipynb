{
 "cells": [
  {
   "cell_type": "code",
   "execution_count": 81,
   "metadata": {},
   "outputs": [],
   "source": [
    "import pandas as pd\n",
    "import numpy as np\n",
    "from matplotlib import pyplot as plt\n",
    "plt.style.use('ggplot')"
   ]
  },
  {
   "cell_type": "code",
   "execution_count": 23,
   "metadata": {},
   "outputs": [
    {
     "name": "stdout",
     "output_type": "stream",
     "text": [
      "Populating the interactive namespace from numpy and matplotlib\n"
     ]
    },
    {
     "name": "stderr",
     "output_type": "stream",
     "text": [
      "C:\\anaconda\\lib\\site-packages\\IPython\\core\\magics\\pylab.py:160: UserWarning: pylab import has clobbered these variables: ['reshape', 'eye', 'cbrt', 'seterr', 'maximum', 'conjugate', 'cos', 'sqrt', 'roots', 'sin', 'ifft', 'plot', 'beta', 'exp', 'ones', 'invert', 'sinh', 'gcd', 'plotting', 'lcm', 'mod', 'interactive', 'prod', 'Circle', 'nan', 'add', 'floor', 'tan', 'tanh', 'diag', 'cosh', 'minimum', 'vectorize', 'var', 'partition', 'source', 'sinc', 'diff', 'take', 'deprecated', 'binomial', 'trunc', 'trace', 'pi', 'gamma', 'det', 'fft', 'Line2D', 'test', 'log', 're', 'array', 'Number', 'zeros', 'power', 'poly', 'multinomial', 'product', 'flatten', 'Polygon', 'solve', 'sign', 'transpose']\n",
      "`%matplotlib` prevents importing * from pylab and numpy\n",
      "  \"\\n`%matplotlib` prevents importing * from pylab and numpy\"\n"
     ]
    }
   ],
   "source": [
    "%pylab inline"
   ]
  },
  {
   "cell_type": "markdown",
   "metadata": {},
   "source": [
    "Нужно создать алгоритм построения интерполяционных сплайнов. \n",
    "\n",
    "Для проверки работоспособности программы требуется для той же функции 𝑓(𝑥),\n",
    "что и в работе 2.1, задав отрезок [𝑎, 𝑏] из крайних точек, выбирая промежуточные точки с\n",
    "шагом $ℎ=\\frac{a - b}{N}$ \n",
    "\n",
    "𝑁 задано, построить следующие интерполяционные сплайны:\n",
    " - Линейный\n",
    " - Квадратичный с граничным условием $𝑓^\\prime(𝑎) = 0$\n",
    " - Квадратичный с граничным условием $𝑓^\\prime(b) = 0$\n",
    " - Кубический с граничными условиями $𝑓^{\\prime\\prime}(𝑎) = 𝑓^{\\prime\\prime}(b)$"
   ]
  },
  {
   "cell_type": "markdown",
   "metadata": {},
   "source": [
    "Построим график заданной функции (sh2x) на участке от 0 до 1:"
   ]
  },
  {
   "cell_type": "code",
   "execution_count": 48,
   "metadata": {},
   "outputs": [
    {
     "data": {
      "image/png": "[encoded data removed]",
      "text/plain": [
       "<Figure size 504x504 with 1 Axes>"
      ]
     },
     "metadata": {},
     "output_type": "display_data"
    }
   ],
   "source": [
    "plt.figure(figsize = (7, 7))\n",
    "\n",
    "x = np.linspace(1, 2, 50)\n",
    "y = (np.exp(2*x) - np.exp(-2*x)) / 2\n",
    "\n",
    "plt.plot(x, y, label = 'sh(2x)')\n",
    "plt.legend()\n",
    "plt.show()"
   ]
  },
  {
   "cell_type": "markdown",
   "metadata": {},
   "source": [
    "Массив опорных точек по которому нужно восстановить функцию:"
   ]
  },
  {
   "cell_type": "markdown",
   "metadata": {},
   "source": [
    "#### N = 10"
   ]
  },
  {
   "cell_type": "code",
   "execution_count": 49,
   "metadata": {},
   "outputs": [],
   "source": [
    "x = np.array([1, 1.2, 1.4, 1.6, 1.8, 2])\n",
    "\n",
    "X = np.linspace(1, 2, 10)\n",
    "Y = (np.exp(2*X) - np.exp(-2*X)) / 2"
   ]
  },
  {
   "cell_type": "code",
   "execution_count": 50,
   "metadata": {},
   "outputs": [
    {
     "data": {
      "text/html": [
       "<div>\n",
       "<style scoped>\n",
       "    .dataframe tbody tr th:only-of-type {\n",
       "        vertical-align: middle;\n",
       "    }\n",
       "\n",
       "    .dataframe tbody tr th {\n",
       "        vertical-align: top;\n",
       "    }\n",
       "\n",
       "    .dataframe thead th {\n",
       "        text-align: right;\n",
       "    }\n",
       "</style>\n",
       "<table border=\"1\" class=\"dataframe\">\n",
       "  <thead>\n",
       "    <tr style=\"text-align: right;\">\n",
       "      <th></th>\n",
       "      <th>x</th>\n",
       "      <th>f(x)</th>\n",
       "    </tr>\n",
       "  </thead>\n",
       "  <tbody>\n",
       "    <tr>\n",
       "      <th>0</th>\n",
       "      <td>1.000000</td>\n",
       "      <td>3.626860</td>\n",
       "    </tr>\n",
       "    <tr>\n",
       "      <th>1</th>\n",
       "      <td>1.111111</td>\n",
       "      <td>4.559723</td>\n",
       "    </tr>\n",
       "    <tr>\n",
       "      <th>2</th>\n",
       "      <td>1.222222</td>\n",
       "      <td>5.718686</td>\n",
       "    </tr>\n",
       "    <tr>\n",
       "      <th>3</th>\n",
       "      <td>1.333333</td>\n",
       "      <td>7.161216</td>\n",
       "    </tr>\n",
       "    <tr>\n",
       "      <th>4</th>\n",
       "      <td>1.444444</td>\n",
       "      <td>8.958845</td>\n",
       "    </tr>\n",
       "  </tbody>\n",
       "</table>\n",
       "</div>"
      ],
      "text/plain": [
       "          x      f(x)\n",
       "0  1.000000  3.626860\n",
       "1  1.111111  4.559723\n",
       "2  1.222222  5.718686\n",
       "3  1.333333  7.161216\n",
       "4  1.444444  8.958845"
      ]
     },
     "execution_count": 50,
     "metadata": {},
     "output_type": "execute_result"
    }
   ],
   "source": [
    "data = pd.DataFrame(columns = ['x', 'f(x)'],\n",
    "            data = np.array([X, Y]).T)\n",
    "# выведем несколько точек\n",
    "data.head()"
   ]
  },
  {
   "cell_type": "code",
   "execution_count": 51,
   "metadata": {},
   "outputs": [],
   "source": [
    "L, F = [], []\n",
    "for i in range(data.x.shape[0] - 1):\n",
    "    L.append((data['f(x)'][i] - data['f(x)'][i + 1]) / (data['x'][i] - data['x'][i + 1]))\n",
    "    F.append(data['f(x)'][i] - data['x'][i] * (data['f(x)'][i] - data['f(x)'][i + 1]) / (data['x'][i] - data['x'][i + 1]))"
   ]
  },
  {
   "cell_type": "code",
   "execution_count": 52,
   "metadata": {},
   "outputs": [],
   "source": [
    "def linear_function(i, x, L, F):\n",
    "    return L[i] * x + F[i] "
   ]
  },
  {
   "cell_type": "code",
   "execution_count": 53,
   "metadata": {},
   "outputs": [
    {
     "data": {
      "image/png": "[encoded data removed]",
      "text/plain": [
       "<Figure size 432x288 with 1 Axes>"
      ]
     },
     "metadata": {},
     "output_type": "display_data"
    }
   ],
   "source": [
    "s = []\n",
    "for i in range(data.x.shape[0]):\n",
    "    if i == 0 or i == 1:\n",
    "        s.append(linear_function(0, data.x[i], L, F))\n",
    "    else:\n",
    "        s.append(linear_function(i - 1, data.x[i], L, F))\n",
    "    \n",
    "plt.plot(data.x.iloc[:10], s, color = 'b')\n",
    "plt.scatter(data['x'].iloc[:10], data['f(x)'].iloc[:10], linewidths = 4);"
   ]
  },
  {
   "cell_type": "code",
   "execution_count": 54,
   "metadata": {},
   "outputs": [
    {
     "name": "stdout",
     "output_type": "stream",
     "text": [
      "{ 1.0000 1.1111 }:  8.3958 * x +  -4.7689\n",
      "{ 1.1111 1.2222 }:  10.4307 * x +  -7.0299\n",
      "{ 1.2222 1.3333 }:  12.9828 * x +  -10.1492\n",
      "{ 1.3333 1.4444 }:  16.1787 * x +  -14.4103\n",
      "{ 1.4444 1.5556 }:  20.1768 * x +  -20.1854\n",
      "{ 1.5556 1.6667 }:  25.1754 * x +  -27.9610\n",
      "{ 1.6667 1.7778 }:  31.4224 * x +  -38.3726\n",
      "{ 1.7778 1.8889 }:  39.2274 * x +  -52.2483\n",
      "{ 1.8889 2.0000 }:  48.9777 * x +  -70.6654\n"
     ]
    }
   ],
   "source": [
    "for i in range(data.x.shape[0] - 1):\n",
    "    print('{ %.4f' % data.x[i], '%.4f' % data.x[i + 1], '}: ',\n",
    "          '%.4f' % L[i], '* x + ', '%.4f' % F[i])"
   ]
  },
  {
   "cell_type": "markdown",
   "metadata": {},
   "source": [
    "#### N = 50"
   ]
  },
  {
   "cell_type": "code",
   "execution_count": 55,
   "metadata": {},
   "outputs": [],
   "source": [
    "def linear_interp(N):\n",
    "    X = np.linspace(1, 2, N)\n",
    "    Y = (np.exp(2*X) - np.exp(-2*X)) / 2\n",
    "    data = pd.DataFrame(columns = ['x', 'f(x)'],\n",
    "            data = np.array([X, Y]).T)\n",
    "    \n",
    "    L, F = [], []\n",
    "    for i in range(data.x.shape[0] - 1):\n",
    "        L.append((data['f(x)'][i] - data['f(x)'][i + 1]) / (data['x'][i] - data['x'][i + 1]))\n",
    "        F.append(data['f(x)'][i] - data['x'][i] * (data['f(x)'][i] - data['f(x)'][i + 1]) / (data['x'][i] - data['x'][i + 1]))\n",
    "        \n",
    "    s = []\n",
    "    for i in range(data.x.shape[0]):\n",
    "        if i == 0 or i == 1:\n",
    "            s.append(linear_function(0, data.x[i], L, F))\n",
    "        else:\n",
    "            s.append(linear_function(i - 1, data.x[i], L, F))\n",
    "            \n",
    "    plt.figure(figsize = (10, 10))\n",
    "    plt.plot(data.x, s, color = 'b')\n",
    "    plt.scatter(data['x'], data['f(x)']);\n",
    "    \n",
    "    for i in range(data.x.shape[0] - 1):\n",
    "        print('{ %.4f' % data.x[i], '%.4f' % data.x[i + 1], '}: ', '%.4f' % L[i], '* x + ', '%.4f' % F[i])"
   ]
  },
  {
   "cell_type": "code",
   "execution_count": 56,
   "metadata": {
    "scrolled": false
   },
   "outputs": [
    {
     "name": "stdout",
     "output_type": "stream",
     "text": [
      "{ 1.0000 1.0204 }:  7.6745 * x +  -4.0477\n",
      "{ 1.0204 1.0408 }:  7.9834 * x +  -4.3629\n",
      "{ 1.0408 1.0612 }:  8.3056 * x +  -4.6982\n",
      "{ 1.0612 1.0816 }:  8.6417 * x +  -5.0548\n",
      "{ 1.0816 1.1020 }:  8.9921 * x +  -5.4339\n",
      "{ 1.1020 1.1224 }:  9.3575 * x +  -5.8366\n",
      "{ 1.1224 1.1429 }:  9.7385 * x +  -6.2643\n",
      "{ 1.1429 1.1633 }:  10.1358 * x +  -6.7183\n",
      "{ 1.1633 1.1837 }:  10.5499 * x +  -7.2000\n",
      "{ 1.1837 1.2041 }:  10.9816 * x +  -7.7110\n",
      "{ 1.2041 1.2245 }:  11.4316 * x +  -8.2528\n",
      "{ 1.2245 1.2449 }:  11.9007 * x +  -8.8272\n",
      "{ 1.2449 1.2653 }:  12.3896 * x +  -9.4358\n",
      "{ 1.2653 1.2857 }:  12.8991 * x +  -10.0805\n",
      "{ 1.2857 1.3061 }:  13.4301 * x +  -10.7632\n",
      "{ 1.3061 1.3265 }:  13.9835 * x +  -11.4860\n",
      "{ 1.3265 1.3469 }:  14.5602 * x +  -12.2510\n",
      "{ 1.3469 1.3673 }:  15.1611 * x +  -13.0605\n",
      "{ 1.3673 1.3878 }:  15.7873 * x +  -13.9167\n",
      "{ 1.3878 1.4082 }:  16.4399 * x +  -14.8223\n",
      "{ 1.4082 1.4286 }:  17.1198 * x +  -15.7797\n",
      "{ 1.4286 1.4490 }:  17.8282 * x +  -16.7917\n",
      "{ 1.4490 1.4694 }:  18.5664 * x +  -17.8613\n",
      "{ 1.4694 1.4898 }:  19.3354 * x +  -18.9914\n",
      "{ 1.4898 1.5102 }:  20.1367 * x +  -20.1851\n",
      "{ 1.5102 1.5306 }:  20.9716 * x +  -21.4459\n",
      "{ 1.5306 1.5510 }:  21.8414 * x +  -22.7772\n",
      "{ 1.5510 1.5714 }:  22.7475 * x +  -24.1827\n",
      "{ 1.5714 1.5918 }:  23.6916 * x +  -25.6663\n",
      "{ 1.5918 1.6122 }:  24.6752 * x +  -27.2319\n",
      "{ 1.6122 1.6327 }:  25.6998 * x +  -28.8840\n",
      "{ 1.6327 1.6531 }:  26.7673 * x +  -30.6268\n",
      "{ 1.6531 1.6735 }:  27.8794 * x +  -32.4652\n",
      "{ 1.6735 1.6939 }:  29.0380 * x +  -34.4040\n",
      "{ 1.6939 1.7143 }:  30.2449 * x +  -36.4483\n",
      "{ 1.7143 1.7347 }:  31.5022 * x +  -38.6038\n",
      "{ 1.7347 1.7551 }:  32.8120 * x +  -40.8759\n",
      "{ 1.7551 1.7755 }:  34.1765 * x +  -43.2707\n",
      "{ 1.7755 1.7959 }:  35.5980 * x +  -45.7944\n",
      "{ 1.7959 1.8163 }:  37.0787 * x +  -48.4537\n",
      "{ 1.8163 1.8367 }:  38.6212 * x +  -51.2555\n",
      "{ 1.8367 1.8571 }:  40.2281 * x +  -54.2069\n",
      "{ 1.8571 1.8776 }:  41.9020 * x +  -57.3155\n",
      "{ 1.8776 1.8980 }:  43.6457 * x +  -60.5895\n",
      "{ 1.8980 1.9184 }:  45.4622 * x +  -64.0370\n",
      "{ 1.9184 1.9388 }:  47.3543 * x +  -67.6669\n",
      "{ 1.9388 1.9592 }:  49.3254 * x +  -71.4884\n",
      "{ 1.9592 1.9796 }:  51.3787 * x +  -75.5112\n",
      "{ 1.9796 2.0000 }:  53.5176 * x +  -79.7453\n"
     ]
    },
    {
     "data": {
      "image/png": "[encoded data removed]",
      "text/plain": [
       "<Figure size 720x720 with 1 Axes>"
      ]
     },
     "metadata": {},
     "output_type": "display_data"
    }
   ],
   "source": [
    "linear_interp(50)"
   ]
  },
  {
   "cell_type": "markdown",
   "metadata": {},
   "source": [
    "#### Квадратичный сплайн слева"
   ]
  },
  {
   "cell_type": "code",
   "execution_count": 57,
   "metadata": {},
   "outputs": [],
   "source": [
    "from sympy import *\n",
    "x = symbols('x')\n",
    "y = (functions.elementary.exponential.exp(2*x) - \\\n",
    "     functions.elementary.exponential.exp(-2*x)) / 2"
   ]
  },
  {
   "cell_type": "code",
   "execution_count": 58,
   "metadata": {},
   "outputs": [],
   "source": [
    "def left_square_interp(y, ab, N):\n",
    "    xi = []\n",
    "    yi = []\n",
    "    a = ab[0]\n",
    "    b = ab[1]\n",
    "    h = (b - a) / N\n",
    "    while a < b:\n",
    "        xi.append(a)\n",
    "        yi.append(y.evalf(subs={'x': a}))\n",
    "        a += h\n",
    "    if round(a - h, 5) != b:\n",
    "        xi.append(b)\n",
    "        yi.append(y.evalf(subs={'x': a}))\n",
    "\n",
    "    const = [[] for i in range(N)]\n",
    "    for i in range(N):\n",
    "        A = numpy.array([[1, xi[i], xi[i] ** 2], [1, xi[i + 1], xi[i + 1] ** 2], [0, 1, 2 * xi[i]]])\n",
    "        if i == 0: a = numpy.array([yi[i], yi[i + 1], 0])\n",
    "        else: a = numpy.array([yi[i], yi[i + 1], const[i - 1][1] + 2 * const[i - 1][2] * xi[i]])\n",
    "        for j in np.linalg.solve(A, a.astype(float64)): const[i].append(float(j))\n",
    "\n",
    "\n",
    "    yn = {}\n",
    "    for i in range(N):\n",
    "        yn[xi[i], xi[i + 1]] = const[i][0] + const[i][1] * x + const[i][2] * x ** 2\n",
    "        \n",
    "    return yn"
   ]
  },
  {
   "cell_type": "markdown",
   "metadata": {},
   "source": [
    "#### N = 10"
   ]
  },
  {
   "cell_type": "code",
   "execution_count": 59,
   "metadata": {},
   "outputs": [],
   "source": [
    "interp = left_square_interp(y, [1, 2], 10)"
   ]
  },
  {
   "cell_type": "code",
   "execution_count": 60,
   "metadata": {},
   "outputs": [
    {
     "name": "stdout",
     "output_type": "stream",
     "text": [
      "{ 1.0000 , 1.1000 } :  83.0244762688875*x**2 - 166.048952537775*x + 86.6513366767345\n",
      "{ 1.1000 , 1.2000 } :  -65.136548223755*x**2 + 159.905301346038*x - 92.6235029593629\n",
      "{ 1.2000 , 1.3000 } :  87.0744453814937*x**2 - 205.401083306558*x + 126.560327832195\n",
      "{ 1.3000 , 1.4000 } :  -60.2061342690276*x**2 + 177.528423784797*x - 122.343851777186\n",
      "{ 1.4000 , 1.5000 } :  93.0831790022024*x**2 - 251.681653374647*x + 178.103202234425\n",
      "{ 1.5000 , 1.6000 } :  -52.8779294040421*x**2 + 186.201671844087*x - 150.309291679625\n",
      "{ 1.6000 , 1.7000 } :  102.024961703771*x**2 - 309.487579700916*x + 246.242109556377\n",
      "{ 1.7000 , 1.8000 } :  -41.9637037293591*x**2 + 180.073882771727*x - 169.88513354537\n",
      "{ 1.8000 , 1.9000 } :  115.349656550356*x**2 - 386.254214235247*x + 339.810153760907\n",
      "{ 1.9000 , 2.0000 } :  -25.6937729205063*x**2 + 149.710817754029*x - 169.356626628906\n"
     ]
    }
   ],
   "source": [
    "for key, value in zip(interp.keys(), interp.values()):\n",
    "    print('{ %.4f' % key[0], ', %.4f' % key[1], '} : ', value)"
   ]
  },
  {
   "cell_type": "code",
   "execution_count": 61,
   "metadata": {},
   "outputs": [
    {
     "data": {
      "image/png": "[encoded data removed]",
      "text/plain": [
       "<Figure size 432x288 with 1 Axes>"
      ]
     },
     "metadata": {},
     "output_type": "display_data"
    }
   ],
   "source": [
    "ab = [1, 2]\n",
    "p = plot(y, (x, ab[0], ab[1]), show=False)\n",
    "for i, j in left_square_interp(y, ab, 10):\n",
    "    p.extend(plot(left_square_interp(y, ab, 10)[i, j], (x, i, j), line_color='r', show=False))\n",
    "p.show()        "
   ]
  },
  {
   "cell_type": "markdown",
   "metadata": {},
   "source": [
    "#### N = 50"
   ]
  },
  {
   "cell_type": "code",
   "execution_count": 62,
   "metadata": {},
   "outputs": [],
   "source": [
    "interp = left_square_interp(y, [1, 2], 50)"
   ]
  },
  {
   "cell_type": "code",
   "execution_count": 63,
   "metadata": {},
   "outputs": [
    {
     "name": "stdout",
     "output_type": "stream",
     "text": [
      "{ 1.0000 , 1.0200 } :  383.574590383211*x**2 - 767.149180766422*x + 387.201450791058\n",
      "{ 1.0200 , 1.0400 } :  -368.451413144843*x**2 + 766.983866430808*x - 395.206403279529\n",
      "{ 1.0400 , 1.0600 } :  384.212591871347*x**2 - 798.557264002866*x + 418.874984545981\n",
      "{ 1.0600 , 1.0800 } :  -367.788190408071*x**2 + 795.684394429498*x - 426.073094423172\n",
      "{ 1.0800 , 1.1000 } :  384.902097154656*x**2 - 830.126626705991*x + 451.864856989992\n",
      "{ 1.1000 , 1.1200 } :  -367.071299222975*x**2 + 824.214845324798*x - 458.022952626942\n",
      "{ 1.1200 , 1.1400 } :  385.64752142056*x**2 - 861.875312916721*x + 486.187535988309\n",
      "{ 1.1400 , 1.1600 } :  -366.296149038273*x**2 + 852.556255729419*x - 491.038458139991\n",
      "{ 1.1600 , 1.1800 } :  386.453637929495*x**2 - 893.823250035803*x + 521.861655203838\n",
      "{ 1.1800 , 1.2000 } :  -365.457776246794*x**2 + 880.687687420237*x - 525.099797895226\n",
      "{ 1.2000 , 1.2200 } :  387.325608579255*x**2 - 925.99243616228*x + 558.908276254285\n",
      "{ 1.2200 , 1.2400 } :  -364.550812399991*x**2 + 908.586031027082*x - 560.184588731226\n",
      "{ 1.2400 , 1.2600 } :  388.269016958738*x**2 - 958.407145782567*x + 597.351180890756\n",
      "{ 1.2600 , 1.2800 } :  -363.569449832805*x**2 + 936.225790532121*x - 596.267568987497\n",
      "{ 1.2800 , 1.3000 } :  389.289904102643*x**2 - 991.094155542626*x + 637.217196500341\n",
      "{ 1.3000 , 1.3200 } :  -362.507404474811*x**2 + 963.578846758755*x - 633.320254995557\n",
      "{ 1.3200 , 1.3400 } :  390.394807174069*x**2 - 1024.08299199429*x + 678.536558581452\n",
      "{ 1.3400 , 1.3600 } :  -361.3578756096*x**2 + 990.614197865943*x - 671.310558624904\n",
      "{ 1.3600 , 1.3800 } :  391.590801324847*x**2 - 1057.40620339575*x + 721.343314233049\n",
      "{ 1.3800 , 1.4000 } :  -360.113502327434*x**2 + 1017.29767468455*x - 710.202361642356\n",
      "{ 1.4000 , 1.4200 } :  392.885545000769*x**2 - 1091.09965783443*x + 765.675771120924\n",
      "{ 1.4200 , 1.4400 } :  -358.76631639186*x**2 + 1043.59162852064*x - 749.955042191175\n",
      "{ 1.4400 , 1.4600 } :  394.287328981532*x**2 - 1125.20287015473*x + 811.576996855092\n",
      "{ 1.4600 , 1.4800 } :  -357.307691212826*x**2 + 1069.4545888128*x - 790.522948191203\n",
      "{ 1.4800 , 1.5000 } :  395.805129470509*x**2 - 1159.75936040987*x + 859.095374233574\n",
      "{ 1.5000 , 1.5200 } :  -355.728286609313*x**2 + 1094.84088782959*x - 831.854811946025\n",
      "{ 1.5200 , 1.5400 } :  397.448665572922*x**2 - 1194.8170468044*x + 908.28521837581\n",
      "{ 1.5400 , 1.5600 } :  -354.017989000158*x**2 + 1119.70024928069*x - 873.893099609708\n",
      "{ 1.5600 , 1.5800 } :  399.228461530169*x**2 - 1230.42867637394*x + 959.207462400898\n",
      "{ 1.5800 , 1.6000 } :  -352.16584664071*x**2 + 1143.97733744604*x - 916.573288516885\n",
      "{ 1.6000 , 1.6200 } :  401.155914113491*x**2 - 1266.6522969674*x + 1011.93041901387\n",
      "{ 1.6200 , 1.6400 } :  -350.15999949783*x**2 + 1167.61126313328*x - 959.823064667681\n",
      "{ 1.6400 , 1.6600 } :  403.24336559987*x**2 - 1303.55177438718*x + 1066.53062609909\n",
      "{ 1.6600 , 1.6800 } :  -347.987603300425*x**2 + 1190.5350423618*x - 1003.56143180256\n",
      "{ 1.6800 , 1.7000 } :  405.504182805149*x**2 - 1341.19735895293*x + 1123.09378530181\n",
      "{ 1.7000 , 1.7200 } :  -345.63474729754*x**2 + 1212.67500339622*x - 1047.69772269496\n",
      "{ 1.7200 , 1.7400 } :  407.952842678039*x**2 - 1379.66630611978*x + 1181.7158034888\n",
      "{ 1.7400 , 1.7600 } :  -343.086365176583*x**2 + 1233.95013721431*x - 1092.13050221186\n",
      "{ 1.7600 , 1.7800 } :  410.605025001961*x**2 - 1419.04355621417*x + 1242.5039480052\n",
      "{ 1.7800 , 1.8000 } :  -340.326138592929*x**2 + 1254.27138618364*x - 1136.74635072885\n",
      "{ 1.8000 , 1.8200 } :  413.47771279845*x**2 - 1459.42247882532*x + 1305.57812777922\n",
      "{ 1.8200 , 1.8400 } :  -337.336392671529*x**2 + 1273.5408650854*x - 1181.41851517954\n",
      "{ 1.8400 , 1.8600 } :  416.589301076165*x**2 - 1500.90568790611*x + 1371.07231357265\n",
      "{ 1.8600 , 1.8800 } :  -334.097982832227*x**2 + 1291.65100823311*x - 1226.00541383682\n",
      "{ 1.8800 , 1.9000 } :  419.95971462401*x**2 - 1543.60593420235*x + 1439.1361120525\n",
      "{ 1.9000 , 1.9200 } :  -330.590172195394*x**2 + 1308.48363571139*x - 1270.34897936555\n",
      "{ 1.9200 , 1.9400 } :  423.610535595024*x**2 - 1587.64708220381*x + 1509.93650983305\n",
      "{ 1.9400 , 1.9600 } :  -326.790498797053*x**2 + 1323.90893123744*x - 1314.27282320497\n",
      "{ 1.9600 , 1.9800 } :  427.565141707986*x**2 - 1633.16517954231*x + 1583.65980535919\n",
      "{ 1.9800 , 2.0000 } :  -322.674631755594*x**2 + 1337.78432337347*x - 1357.58020252744\n"
     ]
    }
   ],
   "source": [
    "for key, value in zip(interp.keys(), interp.values()):\n",
    "    print('{ %.4f' % key[0], ', %.4f' % key[1], '} : ', value)"
   ]
  },
  {
   "cell_type": "code",
   "execution_count": 82,
   "metadata": {},
   "outputs": [
    {
     "data": {
      "image/png": "[encoded data removed]",
      "text/plain": [
       "<Figure size 720x720 with 1 Axes>"
      ]
     },
     "metadata": {},
     "output_type": "display_data"
    }
   ],
   "source": [
    "p = plot(y, (x, ab[0], ab[1]), show=False)\n",
    "for i, j in interp:\n",
    "    p.extend(plot(left_square_interp(y, ab, 50)[i, j], (x, i, j), line_color = 'r', show = False))\n",
    "p.show()        "
   ]
  },
  {
   "cell_type": "markdown",
   "metadata": {},
   "source": [
    "#### Квадратичный сплайн справа"
   ]
  },
  {
   "cell_type": "code",
   "execution_count": 65,
   "metadata": {},
   "outputs": [],
   "source": [
    "def right_square_interp(y, ab, N):    \n",
    "    xi = []\n",
    "    yi = []\n",
    "    a = ab[0]\n",
    "    b = ab[1]\n",
    "    h = (b - a) / N\n",
    "    while a < b:\n",
    "        xi.append(a)\n",
    "        yi.append(y.evalf(subs = {'x': a}))\n",
    "        a += h\n",
    "    if round(a - h, 5) != b:\n",
    "        xi.append(b)\n",
    "        yi.append(y.evalf(subs = {'x': b}))\n",
    "\n",
    "    const = [[] for i in range(N)]\n",
    "    for i in range(N, 0, -1):\n",
    "        A = numpy.array([[1, xi[i], xi[i] ** 2], [1, xi[i - 1], xi[i - 1] ** 2], [0, 1, 2 * xi[i]]])\n",
    "        if i == N: a = numpy.array([yi[i], yi[i - 1], 0])\n",
    "        else: a = numpy.array([yi[i], yi[i - 1], const[N - 1 - i][1] + 2 * const[N - 1 - i][2] * xi[i]])\n",
    "        for j in np.linalg.solve(A, a.astype(float64)): const[N - i].append(float(j))\n",
    "\n",
    "    const_new = []\n",
    "    for i in reversed(const): const_new.append(i)\n",
    "\n",
    "    yn = {}\n",
    "    for i in range(N):\n",
    "        yn[xi[i], xi[i + 1]] = const_new[i][0] + const_new[i][1] * x + const_new[i][2] * x ** 2\n",
    "\n",
    "    return yn"
   ]
  },
  {
   "cell_type": "markdown",
   "metadata": {},
   "source": [
    "#### N = 10"
   ]
  },
  {
   "cell_type": "code",
   "execution_count": 66,
   "metadata": {},
   "outputs": [
    {
     "name": "stdout",
     "output_type": "stream",
     "text": [
      "{ 1.0000 , 1.1000 } :  552.381736988923*x**2 - 1151.69920004985*x + 602.944323468773\n",
      "{ 1.1000 , 1.2000 } :  -534.49380894379*x**2 + 1239.42700100212*x - 712.17508710981\n",
      "{ 1.2000 , 1.3000 } :  556.431706101533*x**2 - 1378.79423510666*x + 858.757654555457\n",
      "{ 1.3000 , 1.4000 } :  -529.563394989062*x**2 + 1444.79302772889*x - 976.57406628765\n",
      "{ 1.4000 , 1.5000 } :  562.440439722232*x**2 - 1612.81770946273*x + 1163.75344974649\n",
      "{ 1.5000 , 1.6000 } :  -522.23519012407*x**2 + 1641.20918007617*x - 1276.76671740769\n",
      "{ 1.6000 , 1.7000 } :  571.382222423807*x**2 - 1858.36654007703*x + 1522.89385871487\n",
      "{ 1.7000 , 1.8000 } :  -511.320964449406*x**2 + 1822.82429529189*x - 1606.11835134871\n",
      "{ 1.8000 , 1.9000 } :  584.706917270396*x**2 - 2122.8760788994*x + 1945.01198542345\n",
      "{ 1.9000 , 2.0000 } :  -495.05103364055*x**2 + 1980.2041345622*x - 1952.91421736507\n"
     ]
    }
   ],
   "source": [
    "interp = right_square_interp(y, [1, 2], 10)\n",
    "\n",
    "for key, value in zip(interp.keys(), interp.values()):\n",
    "    print('{ %.4f' % key[0], ', %.4f' % key[1], '} : ', value)"
   ]
  },
  {
   "cell_type": "code",
   "execution_count": 89,
   "metadata": {},
   "outputs": [
    {
     "ename": "KeyError",
     "evalue": "(1, 1.02)",
     "output_type": "error",
     "traceback": [
      "\u001b[1;31m---------------------------------------------------------------------------\u001b[0m",
      "\u001b[1;31mKeyError\u001b[0m                                  Traceback (most recent call last)",
      "\u001b[1;32m<ipython-input-89-334a2e4df8a1>\u001b[0m in \u001b[0;36m<module>\u001b[1;34m\u001b[0m\n\u001b[0;32m      1\u001b[0m \u001b[0mp\u001b[0m \u001b[1;33m=\u001b[0m \u001b[0mplot\u001b[0m\u001b[1;33m(\u001b[0m\u001b[0my\u001b[0m\u001b[1;33m,\u001b[0m \u001b[1;33m(\u001b[0m\u001b[0mx\u001b[0m\u001b[1;33m,\u001b[0m \u001b[0mab\u001b[0m\u001b[1;33m[\u001b[0m\u001b[1;36m0\u001b[0m\u001b[1;33m]\u001b[0m\u001b[1;33m,\u001b[0m \u001b[0mab\u001b[0m\u001b[1;33m[\u001b[0m\u001b[1;36m1\u001b[0m\u001b[1;33m]\u001b[0m\u001b[1;33m)\u001b[0m\u001b[1;33m,\u001b[0m \u001b[0mshow\u001b[0m \u001b[1;33m=\u001b[0m \u001b[1;32mFalse\u001b[0m\u001b[1;33m)\u001b[0m\u001b[1;33m\u001b[0m\u001b[1;33m\u001b[0m\u001b[0m\n\u001b[0;32m      2\u001b[0m \u001b[1;32mfor\u001b[0m \u001b[0mi\u001b[0m\u001b[1;33m,\u001b[0m \u001b[0mj\u001b[0m \u001b[1;32min\u001b[0m \u001b[0minterp\u001b[0m\u001b[1;33m:\u001b[0m\u001b[1;33m\u001b[0m\u001b[1;33m\u001b[0m\u001b[0m\n\u001b[1;32m----> 3\u001b[1;33m     \u001b[0mp\u001b[0m\u001b[1;33m.\u001b[0m\u001b[0mextend\u001b[0m\u001b[1;33m(\u001b[0m\u001b[0mplot\u001b[0m\u001b[1;33m(\u001b[0m\u001b[0mright_square_interp\u001b[0m\u001b[1;33m(\u001b[0m\u001b[0my\u001b[0m\u001b[1;33m,\u001b[0m \u001b[0mab\u001b[0m\u001b[1;33m,\u001b[0m \u001b[1;36m10\u001b[0m\u001b[1;33m)\u001b[0m\u001b[1;33m[\u001b[0m\u001b[0mi\u001b[0m\u001b[1;33m,\u001b[0m \u001b[0mj\u001b[0m\u001b[1;33m]\u001b[0m\u001b[1;33m,\u001b[0m \u001b[1;33m(\u001b[0m\u001b[0mx\u001b[0m\u001b[1;33m,\u001b[0m \u001b[0mi\u001b[0m\u001b[1;33m,\u001b[0m \u001b[0mj\u001b[0m\u001b[1;33m)\u001b[0m\u001b[1;33m,\u001b[0m \u001b[0mline_color\u001b[0m \u001b[1;33m=\u001b[0m \u001b[1;34m'r'\u001b[0m\u001b[1;33m,\u001b[0m \u001b[0mshow\u001b[0m \u001b[1;33m=\u001b[0m \u001b[1;32mFalse\u001b[0m\u001b[1;33m)\u001b[0m\u001b[1;33m)\u001b[0m\u001b[1;33m\u001b[0m\u001b[1;33m\u001b[0m\u001b[0m\n\u001b[0m\u001b[0;32m      4\u001b[0m \u001b[0mp\u001b[0m\u001b[1;33m.\u001b[0m\u001b[0mshow\u001b[0m\u001b[1;33m(\u001b[0m\u001b[1;33m)\u001b[0m\u001b[1;33m\u001b[0m\u001b[1;33m\u001b[0m\u001b[0m\n",
      "\u001b[1;31mKeyError\u001b[0m: (1, 1.02)"
     ]
    }
   ],
   "source": [
    "p = plot(y, (x, ab[0], ab[1]), show = False)\n",
    "for i, j in interp:\n",
    "    p.extend(plot(right_square_interp(y, ab, 10)[i, j], (x, i, j), line_color = 'r', show = False))\n",
    "p.show()        "
   ]
  },
  {
   "cell_type": "markdown",
   "metadata": {},
   "source": [
    "#### N = 50"
   ]
  },
  {
   "cell_type": "code",
   "execution_count": 68,
   "metadata": {},
   "outputs": [
    {
     "name": "stdout",
     "output_type": "stream",
     "text": [
      "{ 1.0000 , 1.0200 } :  2737.86440793779*x**2 - 5522.81461222666*x + 2788.57706469672\n",
      "{ 1.0200 , 1.0400 } :  -2722.74123069917*x**2 + 5616.82089059273*x - 2892.63704174117\n",
      "{ 1.0400 , 1.0600 } :  2738.50240942514*x**2 - 5742.56588086582*x + 3014.24407941728\n",
      "{ 1.0600 , 1.0800 } :  -2722.07800796237*x**2 + 5833.86460399568*x - 3121.26407755932\n",
      "{ 1.0800 , 1.1000 } :  2739.19191470925*x**2 - 5962.478428975*x + 3248.76116024485\n",
      "{ 1.1000 , 1.1200 } :  -2721.36111677763*x**2 + 6050.73824029613*x - 3358.50800785427\n",
      "{ 1.1200 , 1.1400 } :  2739.937338975*x**2 - 6182.57030058977*x + 3492.14477504183\n",
      "{ 1.1400 , 1.1600 } :  -2720.58596659227*x**2 + 6267.4228361036*x - 3604.35131287339\n",
      "{ 1.1600 , 1.1800 } :  2740.74345548404*x**2 - 6402.86142311344*x + 3744.41355747249\n",
      "{ 1.1800 , 1.2000 } :  -2719.74759380169*x**2 + 6483.89745320089*x - 3858.77417955296\n",
      "{ 1.2000 , 1.2200 } :  2741.6154261342*x**2 - 6623.37379464525*x + 4005.58856915472\n",
      "{ 1.2200 , 1.2400 } :  -2718.84062995477*x**2 + 6700.13898221185*x - 4121.75422472811\n",
      "{ 1.2400 , 1.2600 } :  2742.5588345131*x**2 - 6844.13168966848*x + 4275.69359183769\n",
      "{ 1.2600 , 1.2800 } :  -2717.85926738647*x**2 + 6916.12192711844*x - 4393.26618673806\n",
      "{ 1.2800 , 1.3000 } :  2743.57972165669*x**2 - 7065.16188483206*x + 4554.75545291026\n",
      "{ 1.3000 , 1.3200 } :  -2716.79722202901*x**2 + 7131.81816875078*x - 4673.2815819186\n",
      "{ 1.3200 , 1.3400 } :  2744.68462472814*x**2 - 7286.4939066881*x + 4842.80438787107\n",
      "{ 1.3400 , 1.3600 } :  -2715.6476931646*x**2 + 7347.19670526446*x - 4961.76832213714\n",
      "{ 1.3600 , 1.3800 } :  2745.8806188792*x**2 - 7508.16030349469*x + 5139.87444381908\n",
      "{ 1.3800 , 1.4000 } :  -2714.40331988089*x**2 + 7562.22336748316*x - 5258.69028915564\n",
      "{ 1.4000 , 1.4200 } :  2747.17536255571*x**2 - 7730.19694333933*x + 5446.0039284201\n",
      "{ 1.4200 , 1.4400 } :  -2713.05613394673*x**2 + 7776.86050672762*x - 5564.00686112743\n",
      "{ 1.4400 , 1.4600 } :  2748.57714653604*x**2 - 7952.64334106278*x + 5761.23590928166\n",
      "{ 1.4600 , 1.4800 } :  -2711.59750876804*x**2 + 7991.06665242513*x - 5877.67238596453\n",
      "{ 1.4800 , 1.5000 } :  2750.09494702488*x**2 - 8175.54301672189*x + 6085.61876920428\n",
      "{ 1.5000 , 1.5200 } :  -2710.0181041639*x**2 + 8204.79613684445*x - 6199.63559597048\n",
      "{ 1.5200 , 1.5400 } :  2751.73848312881*x**2 - 8398.9438885254*x + 6419.20682331061\n",
      "{ 1.5400 , 1.5600 } :  -2708.30780655574*x**2 + 8417.998683703*x - 6529.83895730527\n",
      "{ 1.5600 , 1.5800 } :  2753.51827908389*x**2 - 8622.89870349263*x + 6762.06100470733\n",
      "{ 1.5800 , 1.6000 } :  -2706.4556641936*x**2 + 8630.61895726425*x - 6868.21794729061\n",
      "{ 1.6000 , 1.6200 } :  2755.44573166661*x**2 - 8847.46550948845*x + 7114.24962611155\n",
      "{ 1.6200 , 1.6400 } :  -2704.44981705228*x**2 + 8842.59606836079*x - 7214.70025194633\n",
      "{ 1.6400 , 1.6600 } :  2757.53318315404*x**2 - 9072.70817231597*x + 7475.84922540862\n",
      "{ 1.6600 , 1.6800 } :  -2702.27742085282*x**2 + 9053.8630329868*x - 7569.20487499269\n",
      "{ 1.6800 , 1.7000 } :  2759.7940003594*x**2 - 9298.69694228623*x + 7846.94550423666\n",
      "{ 1.7000 , 1.7200 } :  -2699.92456485203*x**2 + 9264.34617943263*x - 7931.64114922438\n",
      "{ 1.7200 , 1.7400 } :  2762.24266023128*x**2 - 9525.50907485397*x + 8227.6343694621\n",
      "{ 1.7400 , 1.7600 } :  -2697.37618272962*x**2 + 9473.96449864996*x - 8301.90763948632\n",
      "{ 1.7600 , 1.7800 } :  2764.89484255586*x**2 - 9753.22951035493*x + 8618.02308843798\n",
      "{ 1.7800 , 1.8000 } :  -2694.61595614879*x**2 + 9682.62893303361*x - 8679.89092617783\n",
      "{ 1.8000 , 1.8200 } :  2767.76753035465*x**2 - 9981.95161837877*x + 9018.23157009332\n",
      "{ 1.8200 , 1.8400 } :  -2691.62621022652*x**2 + 9890.24159733672*x - 9065.46425620778\n",
      "{ 1.8400 , 1.8600 } :  2770.87911863101*x**2 - 10211.778012859*x + 9428.39378517229\n",
      "{ 1.8600 , 1.8800 } :  -2688.38780038795*x**2 + 10096.6949258915*x - 9458.4860478657\n",
      "{ 1.8800 , 1.9000 } :  2774.24953217906*x**2 - 10442.8214445604*x + 9848.65934035914\n",
      "{ 1.9000 , 1.9200 } :  -2684.87998975076*x**2 + 10301.8707387729*x - 9858.79823380752\n",
      "{ 1.9200 , 1.9400 } :  2777.90035314927*x**2 - 10675.2057779633*x + 10279.1952222592\n",
      "{ 1.9400 , 1.9600 } :  -2681.08031635121*x**2 + 10505.6392196986*x - 10266.2244254729\n",
      "{ 1.9600 , 1.9800 } :  2781.8549592631*x**2 - 10909.0670607095*x + 10720.1877293271\n",
      "{ 1.9800 , 2.0000 } :  -2676.96444931026*x**2 + 10707.8577972411*x - 10680.5678800439\n"
     ]
    }
   ],
   "source": [
    "interp = right_square_interp(y, [1, 2], 50)\n",
    "\n",
    "for key, value in zip(interp.keys(), interp.values()):\n",
    "    print('{ %.4f' % key[0], ', %.4f' % key[1], '} : ', value)"
   ]
  },
  {
   "cell_type": "code",
   "execution_count": 90,
   "metadata": {},
   "outputs": [
    {
     "data": {
      "image/png": "[encoded data removed]",
      "text/plain": [
       "<Figure size 720x720 with 1 Axes>"
      ]
     },
     "metadata": {},
     "output_type": "display_data"
    }
   ],
   "source": [
    "p = plot(y, (x, ab[0], ab[1]), show = False)\n",
    "for i, j in interp:\n",
    "    p.extend(plot(right_square_interp(y, ab, 50)[i, j], (x, i, j), line_color = 'r', show = False))\n",
    "p.show()        "
   ]
  },
  {
   "cell_type": "markdown",
   "metadata": {},
   "source": [
    "#### Кубический сплайн"
   ]
  },
  {
   "cell_type": "code",
   "execution_count": 70,
   "metadata": {},
   "outputs": [],
   "source": [
    "def cube_interp(y, ab, N):\n",
    "    xi = []\n",
    "    yi = []\n",
    "    a = ab[0]\n",
    "    b = ab[1]\n",
    "    h = (b - a) / N\n",
    "    while a < b:\n",
    "        xi.append(a)\n",
    "        yi.append(y.evalf(subs = {'x': a}))\n",
    "        a += h\n",
    "    if round(a - h, 5) != b:\n",
    "        xi.append(b)\n",
    "        yi.append(y.evalf(subs = {'x': b}))\n",
    "\n",
    "    A = numpy.zeros([N - 1, N - 1])\n",
    "    A[0, 0] = 2 * (xi[2] - xi[0])\n",
    "    A[0, 1] = xi[2] - xi[1]\n",
    "    A[N - 2, N - 3] = xi[N - 1] - xi[N - 2]\n",
    "    A[N - 2, N - 2] = 2 * (xi[N] - xi[N - 2])\n",
    "    for i in range(2, N - 1):\n",
    "        A[i - 1, i - 2] = xi[i] - xi[i - 1]\n",
    "        A[i - 1, i - 1] = 2 * (xi[i + 1] - xi[i - 1])\n",
    "        A[i - 1, i] = xi[i + 1] - xi[i]\n",
    "\n",
    "    a = numpy.zeros([N - 1])\n",
    "    for i in range(1, N):\n",
    "        a[i - 1] = 6 * ((yi[i + 1] - yi[i]) / (xi[i + 1] - xi[i]) - (yi[i] - yi[i - 1]) / (xi[i] - xi[i - 1]))\n",
    "\n",
    "    ci = [0]\n",
    "    for j in np.linalg.solve(A, a):\n",
    "        ci.append(float(j))\n",
    "    ci.append(0)\n",
    "\n",
    "    di = [0]\n",
    "    for i in range(1, N + 1):\n",
    "        di.append((ci[i] - ci[i - 1]) / (xi[i] - xi[i - 1]))\n",
    "\n",
    "    bi = [0]\n",
    "    for i in range(1, N + 1):\n",
    "        hi = xi[i] - xi[i - 1]\n",
    "        bi.append(ci[i] * hi / 2 - di[i] * hi ** 2 / 6 + (yi[i] - yi[i - 1]) / hi)\n",
    "\n",
    "    ai = []\n",
    "    for i in yi: ai.append(i)\n",
    "\n",
    "    yn = {}\n",
    "    for i in range(1, N + 1):\n",
    "        yn[xi[i - 1], xi[i]] = ai[i] + bi[i] * (x - xi[i]) + ci[i] * (x - xi[i]) ** 2 / 2 + di[i] * (x - xi[i]) ** 3 / 6\n",
    "\n",
    "    return yn"
   ]
  },
  {
   "cell_type": "markdown",
   "metadata": {},
   "source": [
    "#### N = 10"
   ]
  },
  {
   "cell_type": "code",
   "execution_count": 71,
   "metadata": {},
   "outputs": [
    {
     "name": "stdout",
     "output_type": "stream",
     "text": [
      "{ 1.0000 , 1.1000 } :  9.02391790223827*x + 48.0138468245104*(0.909090909090909*x - 1)**3 + 13.0946854975938*(0.909090909090909*x - 1)**2 - 5.4692045219262\n",
      " \n",
      "{ 1.1000 , 1.2000 } :  11.1436800767052*x - 2.57176233109961*(0.833333333333333*x - 1)**3 + 14.9408173647747*(0.833333333333333*x - 1)**2 - 7.90618687837019\n",
      " \n",
      "{ 1.2000 , 1.3000 } :  13.5301735266744*x + 22.8033899934341*(0.769230769230769*x - 1)**3 + 22.797030036097*(0.769230769230769*x - 1)**2 - 10.894493356283\n",
      " \n",
      "{ 1.3000 , 1.4000 } :  16.506300033392*x + 25.4508862599977*(0.714285714285714*x - 1)**3 + 31.8929204365465*(0.714285714285714*x - 1)**2 - 14.9169016925128\n",
      " \n",
      "{ 1.4000 , 1.5000 } :  20.1389073102446*x + 42.550609552908*(0.666666666666667*x - 1)**3 + 45.1218928198824*(0.666666666666667*x - 1)**2 - 20.1904860379569\n",
      " \n",
      "{ 1.5000 , 1.6000 } :  24.5570399955172*x + 55.609721917405*(0.625*x - 1)**3 + 61.7655098012463*(0.625*x - 1)**2 - 27.045379996262\n",
      " \n",
      "{ 1.6000 , 1.7000 } :  30.0575865469401*x + 110.561513015309*(0.588235294117647*x - 1)**3 + 89.238325287059*(0.588235294117647*x - 1)**2 - 36.1325337410798\n",
      " \n",
      "{ 1.7000 , 1.8000 } :  36.3997547382183*x + 32.3686772976826*(0.555555555555555*x - 1)**3 + 105.440514473514*(0.555555555555555*x - 1)**2 - 47.2341031681776\n",
      " \n",
      "{ 1.8000 , 1.9000 } :  45.5646986603065*x + 607.31190758053*(0.526315789473684*x - 1)**3 + 213.372914707945*(0.526315789473684*x - 1)**2 - 64.23352059386\n",
      " \n",
      "{ 1.9000 , 2.0000 } :  51.4753057159282*x - 197.020235187393*(x - 2)**3 - 75.6606942347286\n",
      " \n"
     ]
    }
   ],
   "source": [
    "interp = cube_interp(y, [1, 2], 10)\n",
    "\n",
    "for key, value in zip(interp.keys(), interp.values()):\n",
    "    print('{ %.4f' % key[0], ', %.4f' % key[1], '} : ', value)\n",
    "    print(' ')"
   ]
  },
  {
   "cell_type": "code",
   "execution_count": 72,
   "metadata": {},
   "outputs": [
    {
     "data": {
      "image/png": "[encoded data removed]",
      "text/plain": [
       "<Figure size 432x288 with 1 Axes>"
      ]
     },
     "metadata": {},
     "output_type": "display_data"
    }
   ],
   "source": [
    "p = plot(y, (x, ab[0], ab[1]), show = False)\n",
    "for i, j in interp:\n",
    "    p.extend(plot(cube_interp(y, ab, 10)[i, j], (x, i, j), line_color = 'r', show = False))\n",
    "p.show()        "
   ]
  },
  {
   "cell_type": "markdown",
   "metadata": {},
   "source": [
    "#### N = 50"
   ]
  },
  {
   "cell_type": "code",
   "execution_count": 73,
   "metadata": {
    "scrolled": false
   },
   "outputs": [
    {
     "name": "stdout",
     "output_type": "stream",
     "text": [
      "{ 1.0000 , 1.0200 } :  7.79819770049536*x + 168.076633900568*(0.980392156862745*x - 1)**3 + 9.88686081768048*(0.980392156862745*x - 1)**2 - 4.17387141050499\n",
      " \n",
      "{ 1.0200 , 1.0400 } :  8.13541181705111*x - 40.2172269152832*(0.961538461538461*x - 1)**3 + 7.95815739680347*(0.961538461538461*x - 1)**2 - 4.52105893868427\n",
      " \n",
      "{ 1.0400 , 1.0600 } :  8.44955786947491*x + 19.6869960480283*(0.943396226415094*x - 1)**3 + 9.38154174601928*(0.943396226415094*x - 1)**2 - 4.85097841205529\n",
      " \n",
      "{ 1.0600 , 1.0800 } :  8.786894354621*x + 3.52187647532934*(0.925925925925926*x - 1)**3 + 9.93456180895258*(0.925925925925926*x - 1)**2 - 5.21193963427799\n",
      " \n",
      "{ 1.0800 , 1.1000 } :  9.13570085420746*x + 9.00097570798183*(0.909090909090909*x - 1)**3 + 10.7968777681626*(0.909090909090909*x - 1)**2 - 5.59216576909232\n",
      " \n",
      "{ 1.1000 , 1.1200 } :  9.49982065140935*x + 8.42748178621009*(0.892857142857143*x - 1)**3 + 11.6445329595247*(0.892857142857143*x - 1)**2 - 5.99636273804671\n",
      " \n",
      "{ 1.1200 , 1.1400 } :  9.87895617077366*x + 9.6516468790206*(0.87719298245614*x - 1)**3 + 12.5721037314888*(0.87719298245614*x - 1)**2 - 6.42481193327528\n",
      " \n",
      "{ 1.1400 , 1.1600 } :  10.2739499709043*x + 10.4590134808829*(0.862068965517241*x - 1)**3 + 13.5580831643499*(0.862068965517241*x - 1)**2 - 6.87908160601454\n",
      " \n",
      "{ 1.1600 , 1.1800 } :  10.6853709274174*x + 11.482575161411*(0.847457627118644*x - 1)**3 + 14.6134933732037*(0.847457627118644*x - 1)**2 - 7.36047207973375\n",
      " \n",
      "{ 1.1800 , 1.2000 } :  11.1138943356674*x + 12.5511437487417*(0.833333333333333*x - 1)**3 + 15.7406212907215*(0.833333333333333*x - 1)**2 - 7.87044398912484\n",
      " \n",
      "{ 1.2000 , 1.2200 } :  11.560201387066*x + 13.7211090400627*(0.819672131147541*x - 1)**3 + 16.9444897031965*(0.819672131147541*x - 1)**2 - 8.41050574655406\n",
      " \n",
      "{ 1.2200 , 1.2400 } :  12.0250074839226*x + 14.9852294709233*(0.806451612903226*x - 1)**3 + 18.2296922374636*(0.806451612903226*x - 1)**2 - 8.98224868393552\n",
      " \n",
      "{ 1.2400 , 1.2600 } :  12.5090560893807*x + 16.3547978644491*(0.793650793650793*x - 1)**3 + 19.6012890997881*(0.793650793650793*x - 1)**2 - 9.5873421442057\n",
      " \n",
      "{ 1.2600 , 1.2800 } :  13.0131218717697*x + 17.8365271228533*(0.78125*x - 1)**3 + 21.0645780510939*(0.78125*x - 1)**2 - 10.2275397083153\n",
      " \n",
      "{ 1.2800 , 1.3000 } :  13.5380114204914*x + 19.4390992922742*(0.769230769230769*x - 1)**3 + 22.6251780325463*(0.769230769230769*x - 1)**2 - 10.9046826182452\n",
      " \n",
      "{ 1.3000 , 1.3200 } :  14.0845646770735*x + 21.1713668480295*(0.757575757575757*x - 1)**3 + 24.2890272850769*(0.757575757575757*x - 1)**2 - 11.6207042046483\n",
      " \n",
      "{ 1.3200 , 1.3400 } :  14.6536562416514*x + 23.0429046753566*(0.746268656716418*x - 1)**3 + 26.0624062594711*(0.746268656716418*x - 1)**2 - 12.3776342929496\n",
      " \n",
      "{ 1.3400 , 1.3600 } :  15.2461967825911*x + 25.0639041813098*(0.735294117647059*x - 1)**3 + 27.951954852344*(0.735294117647059*x - 1)**2 - 13.1776038790601\n",
      " \n",
      "{ 1.3600 , 1.3800 } :  15.8631344910528*x + 27.2452551483593*(0.72463768115942*x - 1)**3 + 29.964692455264*(0.72463768115942*x - 1)**2 - 14.0228500077025\n",
      " \n",
      "{ 1.3800 , 1.4000 } :  16.5054565990231*x + 29.5985780414763*(0.714285714285714*x - 1)**3 + 32.1080385342874*(0.714285714285714*x - 1)**2 - 14.9157208843964\n",
      " \n",
      "{ 1.4000 , 1.4200 } :  17.1741909589016*x + 32.1362735512047*(0.704225352112676*x - 1)**3 + 34.389834438195*(0.704225352112676*x - 1)**2 - 15.8586812260497\n",
      " \n",
      "{ 1.4200 , 1.4400 } :  17.8704076883378*x + 34.8715708248429*(0.694444444444444*x - 1)**3 + 36.8183663128224*(0.694444444444444*x - 1)**2 - 16.8543178628174\n",
      " \n",
      "{ 1.4400 , 1.4600 } :  18.5952208826323*x + 37.8185797880978*(0.684931506849315*x - 1)**3 + 39.4023892291871*(0.684931506849315*x - 1)**2 - 17.9053456024199\n",
      " \n",
      "{ 1.4600 , 1.4800 } :  19.3497903975309*x + 40.9923462728463*(0.675675675675675*x - 1)**3 + 42.1511525738111*(0.675675675675675*x - 1)**2 - 19.0146133691807\n",
      " \n",
      "{ 1.4800 , 1.5000 } :  20.135323705241*x + 44.4089105161558*(0.666666666666667*x - 1)**3 + 45.0744267690187*(0.666666666666667*x - 1)**2 - 20.1851106304517\n",
      " \n",
      "{ 1.5000 , 1.5200 } :  20.9530778266444*x + 48.085369123826*(0.657894736842105*x - 1)**3 + 48.1825313902253*(0.657894736842105*x - 1)**2 - 21.4199741237001\n",
      " \n",
      "{ 1.5200 , 1.5400 } :  21.8043613427987*x + 52.0399407317357*(0.649350649350649*x - 1)**3 + 51.4863647519814*(0.649350649350649*x - 1)**2 - 22.722494898136\n",
      " \n",
      "{ 1.5400 , 1.5600 } :  22.6905364889466*x + 56.2920355378169*(0.641025641025641*x - 1)**3 + 54.9974350365942*(0.641025641025641*x - 1)**2 - 24.0961256853788\n",
      " \n",
      "{ 1.5600 , 1.5800 } :  23.6130213343836*x + 60.8623289891477*(0.632911392405063*x - 1)**3 + 58.7278930452927*(0.632911392405063*x - 1)**2 - 25.5444886143323\n",
      " \n",
      "{ 1.5800 , 1.6000 } :  24.5732920516652*x + 65.7728397338093*(0.625*x - 1)**3 + 62.6905666510294*(0.625*x - 1)**2 - 27.0713832860988\n",
      " \n",
      "{ 1.6000 , 1.6200 } :  25.5728852788251*x + 71.0470124431769*(0.617283950617284*x - 1)**3 + 66.8989970495731*(0.617283950617284*x - 1)**2 - 28.6807952255703\n",
      " \n",
      "{ 1.6200 , 1.6400 } :  26.6134005782196*x + 76.7098044710173*(0.609756097560975*x - 1)**3 + 71.3674768618557*(0.609756097560975*x - 1)**2 - 30.3769047267468\n",
      " \n",
      "{ 1.6400 , 1.6600 } :  27.6965029965593*x + 82.7877816004275*(0.602409638554217*x - 1)**3 + 76.1110903271391*(0.602409638554217*x - 1)**2 - 32.1640961109071\n",
      " \n",
      "{ 1.6600 , 1.6800 } :  28.8239257278803*x + 89.3092038962305*(0.595238095238095*x - 1)**3 + 81.1457551344449*(0.595238095238095*x - 1)**2 - 34.04696741269\n",
      " \n",
      "{ 1.6800 , 1.7000 } :  29.9974728924683*x + 96.3041765983033*(0.588235294117647*x - 1)**3 + 86.4882681108674*(0.588235294117647*x - 1)**2 - 36.0303405284779\n",
      " \n",
      "{ 1.7000 , 1.7200 } :  31.2190224035211*x + 103.804577640859*(0.581395348837209*x - 1)**3 + 92.1563467963169*(0.581395348837209*x - 1)**2 - 38.1192717925656\n",
      " \n",
      "{ 1.7200 , 1.7400 } :  32.4905290480243*x + 111.844878534215*(0.574712643678161*x - 1)**3 + 98.1686978971738*(0.574712643678161*x - 1)**2 - 40.3190632111468\n",
      " \n",
      "{ 1.7400 , 1.7600 } :  33.8140273318861*x + 120.459544601368*(0.568181818181818*x - 1)**3 + 104.544994794326*(0.568181818181818*x - 1)**2 - 42.6352735897787\n",
      " \n",
      "{ 1.7600 , 1.7800 } :  35.1916357915351*x + 129.693681051738*(0.561797752808989*x - 1)**3 + 111.306214645851*(0.561797752808989*x - 1)**2 - 45.0737325487363\n",
      " \n",
      "{ 1.7800 , 1.8000 } :  36.6255564431512*x + 139.562570630922*(0.555555555555555*x - 1)**3 + 118.47361562475*(0.555555555555555*x - 1)**2 - 47.6405462370568\n",
      " \n",
      "{ 1.8000 , 1.8200 } :  38.1180930139276*x + 150.20850784701*(0.549450549450549*x - 1)**3 + 126.072917841054*(0.549450549450549*x - 1)**2 - 50.3421370946316\n",
      " \n",
      "{ 1.8200 , 1.8400 } :  39.6715997391396*x + 161.296464640989*(0.543478260869565*x - 1)**3 + 134.118642884564*(0.543478260869565*x - 1)**2 - 53.1851579711481\n",
      " \n",
      "{ 1.8400 , 1.8600 } :  41.2886899793981*x + 174.345460013395*(0.53763440860215*x - 1)**3 + 142.674158428562*(0.53763440860215*x - 1)**2 - 56.1768832912978\n",
      " \n",
      "{ 1.8600 , 1.8800 } :  42.9714758920755*x + 183.741631715943*(0.531914893617021*x - 1)**3 + 151.623010558793*(0.531914893617021*x - 1)**2 - 59.3238035579079\n",
      " \n",
      "{ 1.8800 , 1.9000 } :  44.7244250032665*x + 211.372817287134*(0.526315789473684*x - 1)**3 + 161.541122821106*(0.526315789473684*x - 1)**2 - 62.6370006454841\n",
      " \n",
      "{ 1.9000 , 1.9200 } :  46.5437190990578*x + 173.200384641633*(0.520833333333333*x - 1)**3 + 170.372399878146*(0.520833333333333*x - 1)**2 - 66.1119502509689\n",
      " \n",
      "{ 1.9200 , 1.9400 } :  48.4569879544137*x + 393.118698814229*(0.515463917525773*x - 1)**3 + 186.098621736741*(0.515463917525773*x - 1)**2 - 69.8047745084808\n",
      " \n",
      "{ 1.9400 , 1.9600 } :  50.3750424490631*x - 375.374747105855*(0.510204081632653*x - 1)**3 + 178.464421822669*(0.510204081632653*x - 1)**2 - 73.5447813585031\n",
      " \n",
      "{ 1.9600 , 1.9800 } :  52.6452363976326*x + 2664.8538653686*(0.505050505050505*x - 1)**3 + 262.878282617*(0.505050505050505*x - 1)**2 - 78.0184366499087\n",
      " \n",
      "{ 1.9800 , 2.0000 } :  53.9863152804863*x - 1117.56573571154*(x - 2)**3 - 80.6827133638448\n",
      " \n"
     ]
    }
   ],
   "source": [
    "interp = cube_interp(y, [1, 2], 50)\n",
    "\n",
    "for key, value in zip(interp.keys(), interp.values()):\n",
    "    print('{ %.4f' % key[0], ', %.4f' % key[1], '} : ', value)\n",
    "    print(' ')"
   ]
  },
  {
   "cell_type": "code",
   "execution_count": 74,
   "metadata": {},
   "outputs": [
    {
     "data": {
      "image/png": "[encoded data removed]",
      "text/plain": [
       "<Figure size 432x288 with 1 Axes>"
      ]
     },
     "metadata": {},
     "output_type": "display_data"
    }
   ],
   "source": [
    "p = plot(y, (x, ab[0], ab[1]), show = False)\n",
    "for i, j in interp:\n",
    "    p.extend(plot(cube_interp(y, ab, 50)[i, j], (x, i, j), line_color = 'r', show = False))\n",
    "p.show()        "
   ]
  }
 ],
 "metadata": {
  "kernelspec": {
   "display_name": "Python 3",
   "language": "python",
   "name": "python3"
  },
  "language_info": {
   "codemirror_mode": {
    "name": "ipython",
    "version": 3
   },
   "file_extension": ".py",
   "mimetype": "text/x-python",
   "name": "python",
   "nbconvert_exporter": "python",
   "pygments_lexer": "ipython3",
   "version": "3.7.6"
  }
 },
 "nbformat": 4,
 "nbformat_minor": 4
}
