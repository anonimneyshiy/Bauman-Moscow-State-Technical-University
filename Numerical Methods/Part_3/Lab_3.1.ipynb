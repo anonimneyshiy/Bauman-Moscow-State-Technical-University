{
 "cells": [
  {
   "cell_type": "code",
   "execution_count": 1,
   "metadata": {},
   "outputs": [],
   "source": [
    "import numpy as np\n",
    "from matplotlib import pyplot as plt\n",
    "plt.style.use('ggplot')"
   ]
  },
  {
   "cell_type": "code",
   "execution_count": 2,
   "metadata": {},
   "outputs": [
    {
     "name": "stdout",
     "output_type": "stream",
     "text": [
      "Populating the interactive namespace from numpy and matplotlib\n"
     ]
    }
   ],
   "source": [
    "%pylab inline"
   ]
  },
  {
   "cell_type": "markdown",
   "metadata": {},
   "source": [
    "Дана неотрицательная функция 𝑝(𝑥), непрерывная на отрезке [𝑎, 𝑏] и принимающая\n",
    "нулевое значение вне этого отрезка.\n",
    "\n",
    "Дана ещё одна неотрицательная функция 𝑞(𝑦), непрерывная на отрезке [𝑐, 𝑑] и\n",
    "принимающая нулевое значение вне этого отрезка.\n",
    "\n",
    "Мы полагаем далее, что X – непрерывная случайная величина с плотностью\n",
    "вероятности 𝑃 ∙ 𝑝(𝑥). Аналогично, Y – непрерывная случайная величина с плотностью вероятности 𝑄 ∙ 𝑞(𝑦).\n",
    "\n",
    "Требуется с помощью численного метода интегрирования высокого порядка вычислить с шагом по аргументу h=0,01: \n"
   ]
  },
  {
   "cell_type": "markdown",
   "metadata": {},
   "source": [
    " - Постоянные множители P и Q, при которых $\\int\\limits_1^3 P p(x)dx$ и \n",
    " $\\int\\limits_0^1 Q q(y)dy$\n",
    " - Множество элементарных исходов случайной величины Z = X + Y\n",
    " - Плотность вероятности суммы случайных величин Z = X + Y \n",
    " - Полную вероятность для случайной величины Z:      $\\int\\limits_{z_{max}}^{z_{min}} f(z)dz$, сравнив в конце результат с единицей.\n",
    " - Вывести графики плотностей вероятности для величин X, Y, Z."
   ]
  },
  {
   "cell_type": "markdown",
   "metadata": {},
   "source": [
    "#### Вычислим постоянные множители P и Q"
   ]
  },
  {
   "cell_type": "markdown",
   "metadata": {},
   "source": [
    "По условию задано:\n",
    " - $p(x) = x$, на участке [1, 3]\n",
    " - $q(x) = x^2$, на участке [0, 1]"
   ]
  },
  {
   "cell_type": "code",
   "execution_count": 3,
   "metadata": {},
   "outputs": [],
   "source": [
    "def p(x):\n",
    "    if x >= 1 and x <= 3:\n",
    "        return x\n",
    "    return 0\n",
    "\n",
    "def q(x):\n",
    "    if x >= 0 and x <= 1:\n",
    "        return x**2\n",
    "    return 0"
   ]
  },
  {
   "cell_type": "code",
   "execution_count": 4,
   "metadata": {},
   "outputs": [],
   "source": [
    "def seek_constant(low, high, function, h):\n",
    "    sum_p = 0\n",
    "    while low <= high:\n",
    "        sum_p += function((low + (low + h)) / 2)\n",
    "        low += h\n",
    "    const = 1 / (h * sum_p)\n",
    "    return const"
   ]
  },
  {
   "cell_type": "code",
   "execution_count": 5,
   "metadata": {},
   "outputs": [
    {
     "name": "stdout",
     "output_type": "stream",
     "text": [
      "Постоянные множители:\n",
      "P = 0.2500\n",
      "Q = 3.0001\n"
     ]
    }
   ],
   "source": [
    "a, b = 1, 3\n",
    "c, d = 0, 1\n",
    "\n",
    "P = seek_constant(a, b, p, 0.01)\n",
    "Q = seek_constant(c, d, q, 0.01)\n",
    "\n",
    "print('Постоянные множители:')\n",
    "print('P = %.4f' % P)\n",
    "print('Q = %.4f' % Q)"
   ]
  },
  {
   "cell_type": "code",
   "execution_count": 6,
   "metadata": {},
   "outputs": [
    {
     "name": "stdout",
     "output_type": "stream",
     "text": [
      "Множество элементарных исходов случайной величины Z = X + Y: 0.7500\n"
     ]
    }
   ],
   "source": [
    "print('Множество элементарных исходов случайной величины Z = X + Y: %.4f' % (P * Q))"
   ]
  },
  {
   "cell_type": "markdown",
   "metadata": {},
   "source": [
    "Метод средних прямоугольников:"
   ]
  },
  {
   "cell_type": "code",
   "execution_count": 7,
   "metadata": {},
   "outputs": [],
   "source": [
    "def average_rectangle(low, high, function, h, z = None):\n",
    "    integral = 0\n",
    "    while low <= high:\n",
    "        if z or z == 0.:\n",
    "            if z < 1 or z > 4:\n",
    "                return 0\n",
    "            else:\n",
    "                integral += function( (low + (low + h)) / 2, z)\n",
    "        else:\n",
    "            integral += function( (low + (low + h)) / 2)\n",
    "        low += h\n",
    "    return integral * h"
   ]
  },
  {
   "cell_type": "markdown",
   "metadata": {},
   "source": [
    "Проверим значения интегралов:"
   ]
  },
  {
   "cell_type": "code",
   "execution_count": 8,
   "metadata": {},
   "outputs": [
    {
     "name": "stdout",
     "output_type": "stream",
     "text": [
      "first integral = 1.0000 \n",
      "second integral = 1.0000 \n"
     ]
    }
   ],
   "source": [
    "func_p = lambda x: P * p(x)\n",
    "func_q = lambda x: Q * q(x)\n",
    "print('first integral = %.4f ' % average_rectangle(a, b, func_p, 0.01))\n",
    "print('second integral = %.4f ' % average_rectangle(c, d, func_q, 0.01))"
   ]
  },
  {
   "cell_type": "markdown",
   "metadata": {},
   "source": [
    "#### Плотность вероятности суммы случайных величин Z = X + Y:"
   ]
  },
  {
   "cell_type": "code",
   "execution_count": 9,
   "metadata": {},
   "outputs": [],
   "source": [
    "func_z = lambda x, z: P * p(x) * Q * q(z - x)"
   ]
  },
  {
   "cell_type": "markdown",
   "metadata": {},
   "source": [
    "Посмотрим на значения в некоторых точках:"
   ]
  },
  {
   "cell_type": "code",
   "execution_count": 10,
   "metadata": {},
   "outputs": [
    {
     "name": "stdout",
     "output_type": "stream",
     "text": [
      "При z = 0.5:  0.0000 \n",
      "При z = 3:  0.5625 \n"
     ]
    }
   ],
   "source": [
    "print('При z = 0.5:  %.4f ' % average_rectangle(a, b, func_z, 0.01, z = 0.5))\n",
    "print('При z = 3:  %.4f ' % average_rectangle(a, b, func_z, 0.01, z = 3))"
   ]
  },
  {
   "cell_type": "markdown",
   "metadata": {},
   "source": [
    "#### Посчитаем полную вероятность для величины Z:"
   ]
  },
  {
   "cell_type": "code",
   "execution_count": 11,
   "metadata": {},
   "outputs": [],
   "source": [
    "n1 = (b - a) / 0.01\n",
    "n2 = (d - c) / 0.01\n",
    "Z = np.linspace(a + c, b + d, int(n1 + n2 + 1))\n",
    "F = np.zeros(int(n1 + n2 + 1))\n",
    "for i in range(F.shape[0]):\n",
    "    F[i] = average_rectangle(a, b, func_z, 0.01, Z[i])"
   ]
  },
  {
   "cell_type": "code",
   "execution_count": 13,
   "metadata": {},
   "outputs": [],
   "source": [
    "def average_rectangle_for_z(X, h):\n",
    "    integral = 0\n",
    "    for i in range(X.shape[0] - 1):\n",
    "        integral += (X[i] + X[i + 1]) / 2\n",
    "    return integral * h"
   ]
  },
  {
   "cell_type": "code",
   "execution_count": 14,
   "metadata": {},
   "outputs": [
    {
     "name": "stdout",
     "output_type": "stream",
     "text": [
      "Полная вероятность Z = 1.0000\n"
     ]
    }
   ],
   "source": [
    "print('Полная вероятность Z = %.4f' % average_rectangle_for_z(F, 0.01))"
   ]
  },
  {
   "cell_type": "code",
   "execution_count": 15,
   "metadata": {},
   "outputs": [
    {
     "data": {
      "text/plain": [
       "1.000000000000018"
      ]
     },
     "execution_count": 15,
     "metadata": {},
     "output_type": "execute_result"
    }
   ],
   "source": [
    "average_rectangle_for_z(F, 0.01)"
   ]
  },
  {
   "cell_type": "markdown",
   "metadata": {},
   "source": [
    "#### Графики плотностей вероятности для X, Y, Z"
   ]
  },
  {
   "cell_type": "code",
   "execution_count": 16,
   "metadata": {},
   "outputs": [],
   "source": [
    "def plotting(X, func, label):\n",
    "    plt.plot(X, [func(i) for i in X],\n",
    "         label = label)\n",
    "    plt.legend()"
   ]
  },
  {
   "cell_type": "code",
   "execution_count": 17,
   "metadata": {},
   "outputs": [
    {
     "data": {
      "image/png": "[encoded data removed]",
      "text/plain": [
       "<Figure size 504x936 with 3 Axes>"
      ]
     },
     "metadata": {
      "needs_background": "light"
     },
     "output_type": "display_data"
    }
   ],
   "source": [
    "plt.figure(figsize(7, 13))\n",
    "plt.subplot(3, 1, 1)\n",
    "plotting(np.linspace(0, 5, 200), func_p, 'p(x)')\n",
    "\n",
    "plt.subplot(3, 1, 2)\n",
    "plotting(np.linspace(-1, 3, 200), func_q, 'q(x)')\n",
    "\n",
    "plt.subplot(3, 1, 3)\n",
    "plt.plot(Z, F, label = 'z(x)')\n",
    "plt.legend()\n",
    "\n",
    "plt.show()"
   ]
  },
  {
   "cell_type": "code",
   "execution_count": null,
   "metadata": {},
   "outputs": [],
   "source": []
  },
  {
   "cell_type": "code",
   "execution_count": 54,
   "metadata": {},
   "outputs": [],
   "source": [
    "def average_rectangle(low, high, function, h, z = None):\n",
    "    integral = 0\n",
    "    while low <= high:\n",
    "        if z or z == 0.:\n",
    "            integral += function( (low + (low + h)) / 2, z)\n",
    "        else:\n",
    "            integral += function( (low + (low + h)) / 2)\n",
    "        low += h\n",
    "    return integral * h"
   ]
  },
  {
   "cell_type": "code",
   "execution_count": 39,
   "metadata": {},
   "outputs": [],
   "source": [
    "def I(x):\n",
    "    return 14*np.sin(100*3.14*(x + 2)) - 2*np.sin(200*3.14*(x - 1)) + 0.5*np.sin(600*3.14*(x - 0.3)) - 0.04*np.sin(1100*3.14*(x - 0.7))\n",
    "\n",
    "def I_square(x):\n",
    "    return I(x)**2"
   ]
  },
  {
   "cell_type": "markdown",
   "metadata": {},
   "source": [
    "#### I"
   ]
  },
  {
   "cell_type": "code",
   "execution_count": 38,
   "metadata": {},
   "outputs": [
    {
     "data": {
      "text/plain": [
       "0.41146542371209804"
      ]
     },
     "execution_count": 38,
     "metadata": {},
     "output_type": "execute_result"
    }
   ],
   "source": [
    "average_rectangle(0, 1, I, 0.01)"
   ]
  },
  {
   "cell_type": "markdown",
   "metadata": {},
   "source": [
    "#### $I^2$"
   ]
  },
  {
   "cell_type": "code",
   "execution_count": 44,
   "metadata": {},
   "outputs": [
    {
     "data": {
      "text/plain": [
       "12.93395936999753"
      ]
     },
     "execution_count": 44,
     "metadata": {},
     "output_type": "execute_result"
    }
   ],
   "source": [
    "np.sqrt(average_rectangle(0, 1, I_square, 0.01))"
   ]
  },
  {
   "cell_type": "markdown",
   "metadata": {},
   "source": [
    "#### Ampl"
   ]
  },
  {
   "cell_type": "code",
   "execution_count": 43,
   "metadata": {},
   "outputs": [],
   "source": [
    "vi = [i for i in range(50, 2050, 50)]"
   ]
  },
  {
   "cell_type": "code",
   "execution_count": 65,
   "metadata": {},
   "outputs": [],
   "source": [
    "func_ci = lambda x, v: I(x) * np.cos(2*3.14*v*x)\n",
    "func_si = lambda x, v: I(x) * np.sin(2*3.14*v*x)"
   ]
  },
  {
   "cell_type": "code",
   "execution_count": 50,
   "metadata": {},
   "outputs": [
    {
     "data": {
      "text/plain": [
       "-4.907011329962306"
      ]
     },
     "execution_count": 50,
     "metadata": {},
     "output_type": "execute_result"
    }
   ],
   "source": [
    "func_ci(0, 1)"
   ]
  },
  {
   "cell_type": "code",
   "execution_count": 61,
   "metadata": {},
   "outputs": [],
   "source": [
    "ci = []\n",
    "for i in vi:\n",
    "    ci.append(average_rectangle(0, 1, func_ci, 0.01, i) / i)"
   ]
  },
  {
   "cell_type": "code",
   "execution_count": 63,
   "metadata": {},
   "outputs": [
    {
     "data": {
      "image/png": "[encoded data removed]",
      "text/plain": [
       "<Figure size 720x432 with 1 Axes>"
      ]
     },
     "metadata": {
      "needs_background": "light"
     },
     "output_type": "display_data"
    }
   ],
   "source": [
    "plt.figure(figsize(10, 6))\n",
    "plt.plot(vi, ci);"
   ]
  },
  {
   "cell_type": "code",
   "execution_count": 69,
   "metadata": {},
   "outputs": [],
   "source": [
    "si = []\n",
    "for i in vi:\n",
    "    si.append(average_rectangle(0, 1, func_si, 0.01, i) / i)"
   ]
  },
  {
   "cell_type": "code",
   "execution_count": 70,
   "metadata": {},
   "outputs": [
    {
     "data": {
      "image/png": "[encoded data removed]",
      "text/plain": [
       "<Figure size 720x432 with 1 Axes>"
      ]
     },
     "metadata": {
      "needs_background": "light"
     },
     "output_type": "display_data"
    }
   ],
   "source": [
    "plt.figure(figsize(10, 6))\n",
    "plt.plot(vi, si);"
   ]
  }
 ],
 "metadata": {
  "kernelspec": {
   "display_name": "Python 3",
   "language": "python",
   "name": "python3"
  },
  "language_info": {
   "codemirror_mode": {
    "name": "ipython",
    "version": 3
   },
   "file_extension": ".py",
   "mimetype": "text/x-python",
   "name": "python",
   "nbconvert_exporter": "python",
   "pygments_lexer": "ipython3",
   "version": "3.7.6"
  }
 },
 "nbformat": 4,
 "nbformat_minor": 4
}
