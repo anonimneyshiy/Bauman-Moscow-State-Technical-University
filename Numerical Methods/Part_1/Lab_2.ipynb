{
 "cells": [
  {
   "cell_type": "code",
   "execution_count": 56,
   "metadata": {},
   "outputs": [],
   "source": [
    "import numpy as np"
   ]
  },
  {
   "cell_type": "markdown",
   "metadata": {},
   "source": [
    "Решим СЛАУ методом Гаусса"
   ]
  },
  {
   "cell_type": "code",
   "execution_count": 43,
   "metadata": {},
   "outputs": [],
   "source": [
    "A_1 = np.array([[-5., 1, 4, 4],\n",
    "              [0, -5, -1, 1],\n",
    "              [-2, 2, 4, 2], \n",
    "              [2, -5, 2, -3]])\n",
    "\n",
    "b_1 = np.array([28., -7, 8, -45])"
   ]
  },
  {
   "cell_type": "code",
   "execution_count": 45,
   "metadata": {},
   "outputs": [],
   "source": [
    "A_2 = np.array([[2., -1, 2, -2, -1],\n",
    "              [4, -1, -2, -3, 1],\n",
    "              [3, -1, -3, -3, 1], \n",
    "              [3, 0, 4, -2, -4],\n",
    "              [0, 1, -5, 3, -5]])\n",
    "\n",
    "b_2 = np.array([10, -10, 1, 17, -26])"
   ]
  },
  {
   "cell_type": "code",
   "execution_count": 14,
   "metadata": {},
   "outputs": [],
   "source": [
    "def print_itter(A, b):\n",
    "    print(A)\n",
    "    print(b)\n",
    "    print(' ')"
   ]
  },
  {
   "cell_type": "code",
   "execution_count": 55,
   "metadata": {},
   "outputs": [],
   "source": [
    "def direct_move(A, b):    \n",
    "    n_strings = A.shape[0]\n",
    "    n_columns = A.shape[1]\n",
    "    \n",
    "    for i in range(n_strings - 1):\n",
    "        denominator = A[i][i]\n",
    "        if denominator == 0:\n",
    "            continue\n",
    "        \n",
    "        A[i] = A[i] / denominator\n",
    "        b[i] = b[i] / denominator\n",
    "        \n",
    "        for j in range(n_strings - 1, i, -1): \n",
    "            b[j] = b[j] - A[j][i] * b[i]\n",
    "            A[j] = A[j] - A[j][i] * A[i]\n",
    "        #print_itter(A, b)\n",
    "        \n",
    "    return A, b"
   ]
  },
  {
   "cell_type": "code",
   "execution_count": 2,
   "metadata": {},
   "outputs": [],
   "source": [
    "def back_move(A, b):\n",
    "    X = [0 for i in range(b.shape[0])]\n",
    "    \n",
    "    for i in range(b.shape[0] - 1, -1, -1):\n",
    "        X[i] = (- np.sum(X * A[i]) + b[i]) / A[i][i]\n",
    "        \n",
    "    return np.array(X).round(3)"
   ]
  },
  {
   "cell_type": "code",
   "execution_count": 28,
   "metadata": {},
   "outputs": [],
   "source": [
    "def method_Gauss(A, b):\n",
    "    result_direct_move = direct_move(A, b) \n",
    "    return back_move(result_direct_move[0], result_direct_move[1])    "
   ]
  },
  {
   "cell_type": "code",
   "execution_count": 38,
   "metadata": {},
   "outputs": [
    {
     "name": "stdout",
     "output_type": "stream",
     "text": [
      "[[ 1.  -0.2 -0.8 -0.8]\n",
      " [ 0.  -5.  -1.   1. ]\n",
      " [ 0.   1.6  2.4  0.4]\n",
      " [ 0.  -4.6  3.6 -1.4]]\n",
      "[ -5.6  -7.   -3.2 -33.8]\n",
      " \n",
      "[[ 1.   -0.2  -0.8  -0.8 ]\n",
      " [-0.    1.    0.2  -0.2 ]\n",
      " [ 0.    0.    2.08  0.72]\n",
      " [ 0.    0.    4.52 -2.32]]\n",
      "[ -5.6    1.4   -5.44 -27.36]\n",
      " \n",
      "[[ 1.         -0.2        -0.8        -0.8       ]\n",
      " [-0.          1.          0.2        -0.2       ]\n",
      " [ 0.          0.          1.          0.34615385]\n",
      " [ 0.          0.          0.         -3.88461538]]\n",
      "[ -5.6          1.4         -2.61538462 -15.53846154]\n",
      " \n"
     ]
    }
   ],
   "source": [
    "roots_1 = method_Gauss(A_1, b_1)"
   ]
  },
  {
   "cell_type": "code",
   "execution_count": 39,
   "metadata": {},
   "outputs": [
    {
     "name": "stdout",
     "output_type": "stream",
     "text": [
      "Корни:  [-5.  3. -4.  4.]\n"
     ]
    }
   ],
   "source": [
    "print('Корни: ', roots_1)"
   ]
  },
  {
   "cell_type": "markdown",
   "metadata": {},
   "source": [
    "Проверим решение: "
   ]
  },
  {
   "cell_type": "code",
   "execution_count": 44,
   "metadata": {},
   "outputs": [
    {
     "data": {
      "text/plain": [
       "array([-5.,  3., -4.,  4.])"
      ]
     },
     "execution_count": 44,
     "metadata": {},
     "output_type": "execute_result"
    }
   ],
   "source": [
    "np.linalg.solve(A_1, b_1)"
   ]
  },
  {
   "cell_type": "markdown",
   "metadata": {},
   "source": [
    " "
   ]
  },
  {
   "cell_type": "markdown",
   "metadata": {},
   "source": [
    " "
   ]
  },
  {
   "cell_type": "markdown",
   "metadata": {},
   "source": [
    " "
   ]
  },
  {
   "cell_type": "code",
   "execution_count": 46,
   "metadata": {},
   "outputs": [
    {
     "name": "stdout",
     "output_type": "stream",
     "text": [
      "[[ 1.  -0.5  1.  -1.  -0.5]\n",
      " [ 0.   1.  -6.   1.   3. ]\n",
      " [ 0.   0.5 -6.   0.   2.5]\n",
      " [ 0.   1.5  1.   1.  -2.5]\n",
      " [ 0.   1.  -5.   3.  -5. ]]\n",
      "[  5 -30 -14   2 -26]\n",
      " \n",
      "[[ 1.  -0.5  1.  -1.  -0.5]\n",
      " [ 0.   1.  -6.   1.   3. ]\n",
      " [ 0.   0.  -3.  -0.5  1. ]\n",
      " [ 0.   0.  10.  -0.5 -7. ]\n",
      " [ 0.   0.   1.   2.  -8. ]]\n",
      "[  5 -30   1  47   4]\n",
      " \n",
      "[[ 1.         -0.5         1.         -1.         -0.5       ]\n",
      " [ 0.          1.         -6.          1.          3.        ]\n",
      " [-0.         -0.          1.          0.16666667 -0.33333333]\n",
      " [ 0.          0.          0.         -2.16666667 -3.66666667]\n",
      " [ 0.          0.          0.          1.83333333 -7.66666667]]\n",
      "[  5 -30   0  47   4]\n",
      " \n",
      "[[  1.          -0.5          1.          -1.          -0.5       ]\n",
      " [  0.           1.          -6.           1.           3.        ]\n",
      " [ -0.          -0.           1.           0.16666667  -0.33333333]\n",
      " [ -0.          -0.          -0.           1.           1.69230769]\n",
      " [  0.           0.           0.           0.         -10.76923077]]\n",
      "[  5 -30   0 -21  42]\n",
      " \n"
     ]
    }
   ],
   "source": [
    "roots_2 = method_Gauss(A_2, b_2)"
   ]
  },
  {
   "cell_type": "code",
   "execution_count": 47,
   "metadata": {},
   "outputs": [
    {
     "name": "stdout",
     "output_type": "stream",
     "text": [
      "Корни:  [-11.1   2.7   1.1 -14.4  -3.9]\n"
     ]
    }
   ],
   "source": [
    "print('Корни: ', roots_2)"
   ]
  },
  {
   "cell_type": "markdown",
   "metadata": {},
   "source": [
    "Проверим решение:"
   ]
  },
  {
   "cell_type": "code",
   "execution_count": 48,
   "metadata": {},
   "outputs": [
    {
     "data": {
      "text/plain": [
       "array([-11.1,   2.7,   1.1, -14.4,  -3.9])"
      ]
     },
     "execution_count": 48,
     "metadata": {},
     "output_type": "execute_result"
    }
   ],
   "source": [
    "np.linalg.solve(A_2, b_2)"
   ]
  }
 ],
 "metadata": {
  "kernelspec": {
   "display_name": "Python 3",
   "language": "python",
   "name": "python3"
  },
  "language_info": {
   "codemirror_mode": {
    "name": "ipython",
    "version": 3
   },
   "file_extension": ".py",
   "mimetype": "text/x-python",
   "name": "python",
   "nbconvert_exporter": "python",
   "pygments_lexer": "ipython3",
   "version": "3.7.6"
  }
 },
 "nbformat": 4,
 "nbformat_minor": 4
}
