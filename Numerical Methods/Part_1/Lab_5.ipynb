{
 "cells": [
  {
   "cell_type": "code",
   "execution_count": 5,
   "metadata": {},
   "outputs": [],
   "source": [
    "import numpy as np"
   ]
  },
  {
   "cell_type": "code",
   "execution_count": 1,
   "metadata": {},
   "outputs": [],
   "source": [
    "def f1(x, y):\n",
    "    return x**2 + y**2 - 4"
   ]
  },
  {
   "cell_type": "code",
   "execution_count": 2,
   "metadata": {},
   "outputs": [],
   "source": [
    "def f2(x, y):\n",
    "    return x - y**2 - 1"
   ]
  },
  {
   "cell_type": "code",
   "execution_count": 13,
   "metadata": {},
   "outputs": [],
   "source": [
    "class Seek_cross:\n",
    "    \n",
    "    def __init__(self, eps = 1e-4):\n",
    "        self.eps = eps\n",
    "        \n",
    "    def method_newton(self, x, y):\n",
    "        self.x = x\n",
    "        self.y = y\n",
    "        X = np.array([self.x, self.y])\n",
    "        X_prev =  np.array([0, 0]) \n",
    "        X_curr = X - np.linalg.inv(self.__jakobi()) @ np.array([f1(self.x, self.y), f2(self.x, self.y)])\n",
    "        index = 0\n",
    "        while abs(X_prev[0] - X_curr[0]) > self.eps and abs(X_prev[1] - X_curr[1]) > self.eps:\n",
    "            X_prev = X_curr\n",
    "            self.x, self.y = X_prev\n",
    "            X_curr = X_prev - np.linalg.inv(self.__jakobi()) @ np.array([f1(self.x, self.y), f2(self.x, self.y)])\n",
    "            index += 1\n",
    "        return self.x, self.y, index\n",
    "    \n",
    "    def simple_iteration(self, x, y):\n",
    "        self.x = x\n",
    "        self.y = y\n",
    "        X_prev = np.array([self.x, self.y])\n",
    "        X_curr = np.array([f1(X_prev[0], X_prev[1]), f2(X_prev[0], X_prev[1])])      \n",
    "        i = 1 \n",
    "        while abs(self.__norm_func(X_prev, X_curr)) > self.eps:\n",
    "            X_prev = X_curr\n",
    "            X_curr = np.array([f1(X_prev[0], X_prev[1]), f2(X_prev[0], X_prev[1])])\n",
    "            i += 1\n",
    "        return X_curr\n",
    "        \n",
    "    def __norm_func(self, X_prev, X_curr):\n",
    "        result = list(map(lambda x: (x[0] - x[1])**2, zip(X_prev, X_curr)))\n",
    "        return np.sqrt(np.sum(result))\n",
    "        \n",
    "    def __jakobi(self):\n",
    "        matrix = np.zeros((2, 2))\n",
    "        for i in range(matrix.shape[0]):\n",
    "            for j in range(matrix.shape[1]):\n",
    "                matrix[i][j] = self.__derivative(i, j)\n",
    "        return matrix\n",
    "    \n",
    "    def __derivative(self, i, j):\n",
    "        if i == 0:\n",
    "            if j == 0:\n",
    "                return 2 * self.x\n",
    "            if j == 1:\n",
    "                return 1\n",
    "        elif i == 1:\n",
    "            if j == 0:\n",
    "                return 2 * self.y\n",
    "            if j == 1:\n",
    "                return -2 * self.y\n",
    "    "
   ]
  },
  {
   "cell_type": "code",
   "execution_count": 19,
   "metadata": {},
   "outputs": [
    {
     "name": "stdout",
     "output_type": "stream",
     "text": [
      "Решение системы при начальных приближениях 5 и -5:\n",
      "Количесво итераций: 34\n",
      "X = 1.7913\n",
      "Y = 0.8897\n",
      "\n",
      "Решение системы при начальных приближениях 2 и -1:\n",
      "Количесво итераций: 101\n",
      "X = 1.7986\n",
      "Y = -0.9131\n"
     ]
    }
   ],
   "source": [
    "decision = Seek_cross()\n",
    "first_decision = decision.method_newton(5, -5) \n",
    "second_decision = decision.method_newton(2, -1)\n",
    "\n",
    "print('Решение системы при начальных приближениях 5 и -5:')\n",
    "print('Количесво итераций:', first_decision[2])\n",
    "print('X = %.4f' % first_decision[0])\n",
    "print('Y = %.4f' % first_decision[1])\n",
    "print('')\n",
    "\n",
    "print('Решение системы при начальных приближениях 2 и -1:')\n",
    "print('Количесво итераций:', second_decision[2])\n",
    "print('X = %.4f' % second_decision[0])\n",
    "print('Y = %.4f' % second_decision[1])"
   ]
  },
  {
   "cell_type": "markdown",
   "metadata": {},
   "source": [
    "На моей системы метод простых итераций не сходится.\n",
    "\n",
    "Попробем для другого примера:"
   ]
  },
  {
   "cell_type": "markdown",
   "metadata": {},
   "source": [
    "$x^2_{1} + x^2_{2} = 1$\n",
    "\n",
    "$x^3_{1} - x_{2} = 0$"
   ]
  },
  {
   "cell_type": "code",
   "execution_count": 46,
   "metadata": {},
   "outputs": [],
   "source": [
    "def f_exp_1(x, y):\n",
    "    return y**(1 / 3)"
   ]
  },
  {
   "cell_type": "code",
   "execution_count": 21,
   "metadata": {},
   "outputs": [],
   "source": [
    "def f_exp_2(x, y):\n",
    "    return (1.00001 - x**2)**(1 / 2)"
   ]
  },
  {
   "cell_type": "code",
   "execution_count": 44,
   "metadata": {},
   "outputs": [
    {
     "name": "stdout",
     "output_type": "stream",
     "text": [
      "Решение системы при начальных приближениях 1 и 0.2:\n",
      "X = 0.8259\n",
      "Y = 0.5629\n",
      "\n"
     ]
    }
   ],
   "source": [
    "decision = Seek_cross(1e-3)\n",
    "first_decision = decision.simple_iteration(1, 0.2) \n",
    "\n",
    "print('Решение системы при начальных приближениях 1 и 0.2:')\n",
    "print('X = %.4f' % first_decision[0])\n",
    "print('Y = %.4f' % first_decision[1])\n",
    "print('')"
   ]
  },
  {
   "cell_type": "markdown",
   "metadata": {},
   "source": [
    "Для данной системы все работает."
   ]
  }
 ],
 "metadata": {
  "kernelspec": {
   "display_name": "Python 3",
   "language": "python",
   "name": "python3"
  },
  "language_info": {
   "codemirror_mode": {
    "name": "ipython",
    "version": 3
   },
   "file_extension": ".py",
   "mimetype": "text/x-python",
   "name": "python",
   "nbconvert_exporter": "python",
   "pygments_lexer": "ipython3",
   "version": "3.7.6"
  }
 },
 "nbformat": 4,
 "nbformat_minor": 4
}
