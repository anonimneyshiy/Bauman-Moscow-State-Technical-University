{
 "cells": [
  {
   "cell_type": "code",
   "execution_count": 1,
   "metadata": {},
   "outputs": [],
   "source": [
    "import numpy as np"
   ]
  },
  {
   "cell_type": "markdown",
   "metadata": {},
   "source": [
    "Знакоположительный ряд:"
   ]
  },
  {
   "cell_type": "markdown",
   "metadata": {},
   "source": [
    "$$\\sum\\limits_{n = 1}^{\\infty} 0.95^n$$\n",
    "Исследуем на сходимость с помощью признака Даламбера:\n",
    "\n",
    "$ \\lim\\limits_{x\\to 0} 0.95^n = \\lim\\limits_{x\\to 0} \\frac{0.95^{n+1}} {0.95^n} = \\lim\\limits_{x\\to 0} 0.95 = 0.95 < 1$\n",
    "\n",
    "Данный ряд сходится."
   ]
  },
  {
   "cell_type": "code",
   "execution_count": 2,
   "metadata": {},
   "outputs": [],
   "source": [
    "def partial_sum_row_1(eps = 1e-6):\n",
    "    sum_row = 0\n",
    "    index = 1\n",
    "    while 0.95**index >= eps:     \n",
    "        sum_row += 0.95**index\n",
    "        index += 1\n",
    "    return sum_row, index"
   ]
  },
  {
   "cell_type": "code",
   "execution_count": 3,
   "metadata": {},
   "outputs": [
    {
     "name": "stdout",
     "output_type": "stream",
     "text": [
      "Частичная сумма ряда при погрешности 1е-6 равна: 18.999981\n",
      "Количество итераций: 270\n"
     ]
    }
   ],
   "source": [
    "sum_row = partial_sum_row_1()\n",
    "print('Частичная сумма ряда при погрешности 1е-6 равна: %.6f' % sum_row[0])\n",
    "print('Количество итераций:', sum_row[1])"
   ]
  },
  {
   "cell_type": "markdown",
   "metadata": {},
   "source": [
    "Увеличим точность и посмотрим на результат:"
   ]
  },
  {
   "cell_type": "code",
   "execution_count": 4,
   "metadata": {},
   "outputs": [
    {
     "name": "stdout",
     "output_type": "stream",
     "text": [
      "Частичная сумма ряда при погрешности 1е-16 равна: 19.000000\n",
      "Количество итераций: 719\n"
     ]
    }
   ],
   "source": [
    "sum_row = partial_sum_row_1(1e-16)\n",
    "print('Частичная сумма ряда при погрешности 1е-16 равна: %.6f' % sum_row[0])\n",
    "print('Количество итераций:', sum_row[1])"
   ]
  },
  {
   "cell_type": "markdown",
   "metadata": {},
   "source": [
    "\n"
   ]
  },
  {
   "cell_type": "markdown",
   "metadata": {},
   "source": [
    "Знакопеременный ряд:"
   ]
  },
  {
   "cell_type": "markdown",
   "metadata": {},
   "source": [
    "$$\\sum\\limits_{n = 1}^{\\infty} (-1)^{n+1} \\frac{1}{n \\cdot ln^2(n)}$$"
   ]
  },
  {
   "cell_type": "code",
   "execution_count": 5,
   "metadata": {},
   "outputs": [],
   "source": [
    "def partial_sum_row_2(eps = 1e-6):\n",
    "    sum_row = 0\n",
    "    index = 2\n",
    "    while abs((-1)**(index + 1) / (index * (np.log(index))**2)) >= eps:     #######\n",
    "        sum_row += (-1)**(index + 1) / (index * np.log(index))**2\n",
    "        index += 1\n",
    "    return sum_row, index"
   ]
  },
  {
   "cell_type": "code",
   "execution_count": 6,
   "metadata": {},
   "outputs": [
    {
     "name": "stdout",
     "output_type": "stream",
     "text": [
      "Частичная сумма ряда при погрешности 1е-6 равна: -0.450757\n",
      "Количество итераций: 11450\n"
     ]
    }
   ],
   "source": [
    "sum_row = partial_sum_row_2()\n",
    "print('Частичная сумма ряда при погрешности 1е-6 равна: %.6f' % sum_row[0])\n",
    "print('Количество итераций:', sum_row[1])"
   ]
  },
  {
   "cell_type": "markdown",
   "metadata": {},
   "source": [
    "Увеличим точность и посмотрим на результат:"
   ]
  },
  {
   "cell_type": "code",
   "execution_count": 7,
   "metadata": {},
   "outputs": [
    {
     "name": "stdout",
     "output_type": "stream",
     "text": [
      "Частичная сумма ряда при погрешности 1е-8 равна: -0.450757\n",
      "Количество итераций: 569398\n"
     ]
    }
   ],
   "source": [
    "sum_row = partial_sum_row_2(1e-8)\n",
    "print('Частичная сумма ряда при погрешности 1е-8 равна: %.6f' % sum_row[0])\n",
    "print('Количество итераций:', sum_row[1])"
   ]
  }
 ],
 "metadata": {
  "kernelspec": {
   "display_name": "Python 3",
   "language": "python",
   "name": "python3"
  },
  "language_info": {
   "codemirror_mode": {
    "name": "ipython",
    "version": 3
   },
   "file_extension": ".py",
   "mimetype": "text/x-python",
   "name": "python",
   "nbconvert_exporter": "python",
   "pygments_lexer": "ipython3",
   "version": "3.7.6"
  }
 },
 "nbformat": 4,
 "nbformat_minor": 4
}
