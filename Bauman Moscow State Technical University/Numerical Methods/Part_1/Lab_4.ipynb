{
 "cells": [
  {
   "cell_type": "code",
   "execution_count": 1,
   "metadata": {},
   "outputs": [],
   "source": [
    "import numpy as np"
   ]
  },
  {
   "cell_type": "code",
   "execution_count": 2,
   "metadata": {},
   "outputs": [],
   "source": [
    "from matplotlib import pyplot as plt\n",
    "plt.style.use(['seaborn-darkgrid'])\n",
    "plt.rcParams['figure.figsize'] = (8, 5)\n",
    "plt.rcParams['font.family'] = 'DejaVu Sans'"
   ]
  },
  {
   "cell_type": "code",
   "execution_count": 3,
   "metadata": {},
   "outputs": [],
   "source": [
    "def function(x):\n",
    "    return x**4 - 3 * x**2 + 5*x - 3 "
   ]
  },
  {
   "cell_type": "code",
   "execution_count": 4,
   "metadata": {},
   "outputs": [],
   "source": [
    "def derivative_function(x):\n",
    "    return 4 * x**3 - 6 * x + 5"
   ]
  },
  {
   "cell_type": "code",
   "execution_count": 5,
   "metadata": {},
   "outputs": [
    {
     "data": {
      "image/png": "[encoded data removed]",
      "text/plain": [
       "<Figure size 576x360 with 1 Axes>"
      ]
     },
     "metadata": {},
     "output_type": "display_data"
    }
   ],
   "source": [
    "x = np.linspace(-3, 2, 100)\n",
    "y = [function(i) for i in x]\n",
    "plt.plot(x, y)\n",
    "plt.title(\"$x^4 - 3x^2 + 5x - 3$\");"
   ]
  },
  {
   "cell_type": "markdown",
   "metadata": {},
   "source": [
    "Метод Ньютона:"
   ]
  },
  {
   "cell_type": "code",
   "execution_count": 9,
   "metadata": {},
   "outputs": [],
   "source": [
    "def seek_cross_newton(x_l, x_r, eps):\n",
    "    if function(x_l) * function(x_r) > 0:\n",
    "        return \"none\"\n",
    "    \n",
    "    x_prev = x_l\n",
    "    x_curr = x_prev - function(x_prev) / derivative_function(x_prev)\n",
    "    if function(x_prev) * function(x_curr) < 0:\n",
    "        x_prev = x_r\n",
    "        x_curr = x_prev - function(x_prev) / derivative_function(x_prev)\n",
    "        \n",
    "    list_x_new = []\n",
    "    while abs(x_curr - x_prev) > eps:\n",
    "        x_prev = x_curr\n",
    "        x_curr = x_prev - function(x_prev) / derivative_function(x_prev)\n",
    "        list_x_new.append(x_curr)\n",
    "    return list_x_new"
   ]
  },
  {
   "cell_type": "code",
   "execution_count": 24,
   "metadata": {},
   "outputs": [],
   "source": [
    "def print_result(root):\n",
    "    print('Количество иттераций: ', len(root))\n",
    "    print('X = ', root[-1])"
   ]
  },
  {
   "cell_type": "code",
   "execution_count": 29,
   "metadata": {},
   "outputs": [
    {
     "name": "stdout",
     "output_type": "stream",
     "text": [
      "Количество иттераций:  4\n",
      "X =  -2.374423763209308\n"
     ]
    }
   ],
   "source": [
    "print_result(seek_cross_newton(-3, 0, 1e-6))"
   ]
  },
  {
   "cell_type": "code",
   "execution_count": 32,
   "metadata": {},
   "outputs": [
    {
     "name": "stdout",
     "output_type": "stream",
     "text": [
      "Количество иттераций:  4\n",
      "X =  1.0000000000000246\n"
     ]
    }
   ],
   "source": [
    "print_result(seek_cross_newton(0, 3, 1e-6))"
   ]
  },
  {
   "cell_type": "markdown",
   "metadata": {},
   "source": [
    " "
   ]
  },
  {
   "cell_type": "markdown",
   "metadata": {},
   "source": [
    " "
   ]
  },
  {
   "cell_type": "markdown",
   "metadata": {},
   "source": [
    "Метод половиного деления:"
   ]
  },
  {
   "cell_type": "code",
   "execution_count": 15,
   "metadata": {},
   "outputs": [],
   "source": [
    "def seek_cross_binary(x_l, x_r, eps):\n",
    "    if function(x_l) * function(x_r) > 0:\n",
    "        return \"none\"\n",
    "    \n",
    "    x_new = x_l - 50 * eps\n",
    "    list_x_new = []\n",
    "    while abs(function(x_new)) > eps:\n",
    "        if function(x_l) > 0:\n",
    "            x_new = (x_l + x_r) / 2\n",
    "            if function(x_new) > 0:\n",
    "                x_l = x_new\n",
    "            else:\n",
    "                x_r = x_new\n",
    "                list_x_new.append(x_new)\n",
    "        else:\n",
    "            x_new = (x_l + x_r) / 2\n",
    "            if function(x_new) < 0:\n",
    "                x_l = x_new\n",
    "            else:\n",
    "                x_r = x_new\n",
    "            list_x_new.append(x_new)\n",
    "    return list_x_new"
   ]
  },
  {
   "cell_type": "code",
   "execution_count": 30,
   "metadata": {},
   "outputs": [
    {
     "name": "stdout",
     "output_type": "stream",
     "text": [
      "Количество иттераций:  11\n",
      "X =  -2.3744237422943115\n"
     ]
    }
   ],
   "source": [
    "print_result(seek_cross_binary(-3, 0, 1e-6))"
   ]
  },
  {
   "cell_type": "code",
   "execution_count": 31,
   "metadata": {
    "scrolled": false
   },
   "outputs": [
    {
     "name": "stdout",
     "output_type": "stream",
     "text": [
      "Количество иттераций:  22\n",
      "X =  0.9999997615814209\n"
     ]
    }
   ],
   "source": [
    "print_result(seek_cross_binary(0, 3, 1e-6))"
   ]
  }
 ],
 "metadata": {
  "kernelspec": {
   "display_name": "Python 3",
   "language": "python",
   "name": "python3"
  },
  "language_info": {
   "codemirror_mode": {
    "name": "ipython",
    "version": 3
   },
   "file_extension": ".py",
   "mimetype": "text/x-python",
   "name": "python",
   "nbconvert_exporter": "python",
   "pygments_lexer": "ipython3",
   "version": "3.7.6"
  }
 },
 "nbformat": 4,
 "nbformat_minor": 4
}
