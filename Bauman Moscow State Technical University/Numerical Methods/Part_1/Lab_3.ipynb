{
 "cells": [
  {
   "cell_type": "code",
   "execution_count": 2,
   "metadata": {},
   "outputs": [],
   "source": [
    "import numpy as np"
   ]
  },
  {
   "cell_type": "markdown",
   "metadata": {},
   "source": [
    "Решим СЛАУ для трехдиагональной матрицы методом прогонки"
   ]
  },
  {
   "cell_type": "code",
   "execution_count": null,
   "metadata": {},
   "outputs": [],
   "source": [
    "from lab_13 import Metod_Progonki"
   ]
  },
  {
   "cell_type": "code",
   "execution_count": 7,
   "metadata": {},
   "outputs": [],
   "source": [
    "A_1 = np.array([[1, 9, 0, 0],\n",
    "               [-1, -2, 8, 0],\n",
    "               [0, -9, 0, 3],\n",
    "               [0, 0, -8, 1]])\n",
    "B_1 = np.array([33, -76, -42, 69])"
   ]
  },
  {
   "cell_type": "code",
   "execution_count": 8,
   "metadata": {},
   "outputs": [],
   "source": [
    "def print_coef(a, b):\n",
    "    print('a: ', a)\n",
    "    print('b: ', b)"
   ]
  },
  {
   "cell_type": "code",
   "execution_count": 3,
   "metadata": {},
   "outputs": [],
   "source": [
    "def direct_move(A, B):\n",
    "    a = [0 for i in range(A.shape[0] - 1)]\n",
    "    b = [0 for i in range(B.shape[0] - 1)]\n",
    "    \n",
    "    a[0] = - A[0][1]\n",
    "    b[0] = B[0]\n",
    "    \n",
    "    for i in range(1, A.shape[0] - 1):\n",
    "        a[i] = - A[i][i + 1] / (a[i - 1] * A[i][i - 1] + A[i][i])\n",
    "        b[i] = (B[i] - A[i][i - 1] * b[i - 1]) / (a[i - 1] * A[i][i - 1] + A[i][i])\n",
    "\n",
    "    return np.array(a).round(4), np.array(b).round(4)"
   ]
  },
  {
   "cell_type": "code",
   "execution_count": 4,
   "metadata": {},
   "outputs": [],
   "source": [
    "def back_move(a, b, A, B):\n",
    "    k = - A[A.shape[0] - 1][A.shape[0] - 2]\n",
    "    m = B[B.shape[0] - 1]\n",
    "    \n",
    "    y = np.array([0. for i in range(A.shape[0])])\n",
    "    y[A.shape[0] - 1] = (k * b[b.shape[0] - 1] + m) / (1 - k * a[a.shape[0] - 1])\n",
    "    s = (k * b[b.shape[0] - 1] + m) / (1 - k * a[a.shape[0] - 1])\n",
    "    \n",
    "    for i in range(A.shape[0] - 2, -1, -1):\n",
    "        y[i] = a[i] * y[i + 1] + b[i]\n",
    "    \n",
    "    return y.round(4)"
   ]
  },
  {
   "cell_type": "code",
   "execution_count": 9,
   "metadata": {},
   "outputs": [],
   "source": [
    "def method_run(A, B):\n",
    "    direct_result = direct_move(A, B)\n",
    "    print_coef(direct_result[0], direct_result[1])\n",
    "    return back_move(direct_result[0], direct_result[1], A, B)"
   ]
  },
  {
   "cell_type": "code",
   "execution_count": 17,
   "metadata": {},
   "outputs": [
    {
     "name": "stdout",
     "output_type": "stream",
     "text": [
      "a:  [-9.     -1.1429 -0.2917]\n",
      "b:  [33.     -6.1429 -9.4583]\n"
     ]
    }
   ],
   "source": [
    "result = method_run(A_1, B_1)"
   ]
  },
  {
   "cell_type": "code",
   "execution_count": 18,
   "metadata": {},
   "outputs": [
    {
     "name": "stdout",
     "output_type": "stream",
     "text": [
      "Корни:  [-3.0027  4.0003 -8.875  -1.9998]\n"
     ]
    }
   ],
   "source": [
    "print('Корни: ', result)"
   ]
  },
  {
   "cell_type": "markdown",
   "metadata": {},
   "source": [
    "Проверим решение: "
   ]
  },
  {
   "cell_type": "code",
   "execution_count": 12,
   "metadata": {},
   "outputs": [
    {
     "data": {
      "text/plain": [
       "array([-3.   ,  4.   , -8.875, -2.   ])"
      ]
     },
     "execution_count": 12,
     "metadata": {},
     "output_type": "execute_result"
    }
   ],
   "source": [
    "np.linalg.solve(A_1, B_1)"
   ]
  }
 ],
 "metadata": {
  "kernelspec": {
   "display_name": "Python 3",
   "language": "python",
   "name": "python3"
  },
  "language_info": {
   "codemirror_mode": {
    "name": "ipython",
    "version": 3
   },
   "file_extension": ".py",
   "mimetype": "text/x-python",
   "name": "python",
   "nbconvert_exporter": "python",
   "pygments_lexer": "ipython3",
   "version": "3.7.6"
  }
 },
 "nbformat": 4,
 "nbformat_minor": 4
}
