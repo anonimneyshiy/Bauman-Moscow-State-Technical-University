{
 "cells": [
  {
   "cell_type": "code",
   "execution_count": 1,
   "metadata": {},
   "outputs": [],
   "source": [
    "import numpy as np\n",
    "from matplotlib import pyplot as plt"
   ]
  },
  {
   "cell_type": "markdown",
   "metadata": {},
   "source": [
    "Для метода средних прямоугольников проверить выполнение правила Рунге на интеграле:"
   ]
  },
  {
   "cell_type": "markdown",
   "metadata": {},
   "source": [
    "$ I = \\int\\limits_0^2 {\\sqrt{x}\\cdot{e^{\\sqrt{x}}}}dx$"
   ]
  },
  {
   "cell_type": "markdown",
   "metadata": {},
   "source": [
    "Погрешности считать от аналитически рассчитанного интеграла."
   ]
  },
  {
   "cell_type": "markdown",
   "metadata": {},
   "source": [
    "Аналитическое решение дает результат:"
   ]
  },
  {
   "cell_type": "code",
   "execution_count": 12,
   "metadata": {},
   "outputs": [
    {
     "data": {
      "text/plain": [
       "5.637945145819074"
      ]
     },
     "execution_count": 12,
     "metadata": {},
     "output_type": "execute_result"
    }
   ],
   "source": [
    "I_analitical = -4 * np.sqrt(2) * np.exp(np.sqrt(2)) - 4 + 8 * np.exp(np.sqrt(2))\n",
    "I_analitical"
   ]
  },
  {
   "cell_type": "code",
   "execution_count": 4,
   "metadata": {},
   "outputs": [],
   "source": [
    "func = lambda x: x**0.5 * np.exp(x**0.5)"
   ]
  },
  {
   "cell_type": "code",
   "execution_count": 5,
   "metadata": {},
   "outputs": [],
   "source": [
    "def average_rectangle(low, high, function, h, z = None):\n",
    "    integral = 0\n",
    "    while round(low, 5) <= high:\n",
    "        integral += function((low + (low + h)) / 2)\n",
    "        low += h\n",
    "    return integral * h"
   ]
  },
  {
   "cell_type": "code",
   "execution_count": 11,
   "metadata": {},
   "outputs": [
    {
     "data": {
      "text/plain": [
       "5.63852692466322"
      ]
     },
     "execution_count": 11,
     "metadata": {},
     "output_type": "execute_result"
    }
   ],
   "source": [
    "average_rectangle(0, 2, func, 0.0001)"
   ]
  },
  {
   "cell_type": "markdown",
   "metadata": {},
   "source": [
    "Правило Рунге оценки погрешности:"
   ]
  },
  {
   "cell_type": "code",
   "execution_count": 14,
   "metadata": {},
   "outputs": [],
   "source": [
    "def Runge(I_numeric, I_analitical):\n",
    "    return abs(I_numeric - I_analitical) / 3"
   ]
  },
  {
   "cell_type": "markdown",
   "metadata": {},
   "source": [
    "Начнем с небольшого шага и будем увеличивать:"
   ]
  },
  {
   "cell_type": "code",
   "execution_count": 24,
   "metadata": {},
   "outputs": [],
   "source": [
    "step = [1, 0.5, 0.01, 0.005, 0.001, 0.0005, 0.0001, \n",
    "        0.00005, 0.00001]\n",
    "R = []\n",
    "for i in step:\n",
    "    R.append(Runge(average_rectangle(0, 2, func, i), I_analitical))"
   ]
  },
  {
   "cell_type": "code",
   "execution_count": 25,
   "metadata": {},
   "outputs": [
    {
     "data": {
      "text/plain": [
       "[2.5498087688480466,\n",
       " 1.1193587860339929,\n",
       " 0.01946543573768178,\n",
       " 0.009715966146955838,\n",
       " 0.001940197040972554,\n",
       " 0.0009698669178443234,\n",
       " 0.0001939262813820027,\n",
       " 9.695879368099014e-05,\n",
       " 1.939074634815796e-05]"
      ]
     },
     "execution_count": 25,
     "metadata": {},
     "output_type": "execute_result"
    }
   ],
   "source": [
    "R"
   ]
  }
 ],
 "metadata": {
  "kernelspec": {
   "display_name": "Python 3",
   "language": "python",
   "name": "python3"
  },
  "language_info": {
   "codemirror_mode": {
    "name": "ipython",
    "version": 3
   },
   "file_extension": ".py",
   "mimetype": "text/x-python",
   "name": "python",
   "nbconvert_exporter": "python",
   "pygments_lexer": "ipython3",
   "version": "3.7.6"
  }
 },
 "nbformat": 4,
 "nbformat_minor": 4
}
